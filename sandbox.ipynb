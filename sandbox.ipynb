{
 "cells": [
  {
   "cell_type": "code",
   "execution_count": 1,
   "metadata": {},
   "outputs": [
    {
     "name": "stdout",
     "output_type": "stream",
     "text": [
      "Exception reporting mode: Minimal\n"
     ]
    }
   ],
   "source": [
    "#all imports here..\n",
    "import pandas as pd\n",
    "import numpy as np\n",
    "import matplotlib.pyplot as plt\n",
    "import seaborn as sns\n",
    "import re\n",
    "\n",
    "#import plotly.express as px\n",
    "\n",
    "from sklearn.preprocessing import RobustScaler\n",
    "\n",
    "from sklearn.model_selection import train_test_split, GridSearchCV, cross_val_score\n",
    "from sklearn.feature_extraction import DictVectorizer\n",
    "from sklearn.linear_model import LogisticRegression\n",
    "from sklearn.ensemble import RandomForestClassifier\n",
    "\n",
    "from sklearn.metrics import roc_curve, auc, roc_auc_score, mutual_info_score\n",
    "\n",
    "import warnings\n",
    "warnings.filterwarnings(\"ignore\")\n",
    "\n",
    "%xmode Minimal\n",
    "%matplotlib notebook"
   ]
  },
  {
   "cell_type": "code",
   "execution_count": null,
   "metadata": {},
   "outputs": [],
   "source": [
    "data = 'https://archive.ics.uci.edu/ml/machine-learning-databases/00468/online_shoppers_intention.csv'"
   ]
  },
  {
   "cell_type": "code",
   "execution_count": null,
   "metadata": {},
   "outputs": [],
   "source": [
    "!wget $data"
   ]
  },
  {
   "cell_type": "code",
   "execution_count": 2,
   "metadata": {},
   "outputs": [],
   "source": [
    "df = pd.read_csv('online_shoppers_intention.csv')"
   ]
  },
  {
   "cell_type": "code",
   "execution_count": null,
   "metadata": {},
   "outputs": [],
   "source": [
    "df.shape"
   ]
  },
  {
   "cell_type": "code",
   "execution_count": null,
   "metadata": {},
   "outputs": [],
   "source": [
    "df.head().T"
   ]
  },
  {
   "cell_type": "markdown",
   "metadata": {},
   "source": [
    "formatting to lowercase columns' titles and values"
   ]
  },
  {
   "cell_type": "code",
   "execution_count": 3,
   "metadata": {},
   "outputs": [],
   "source": [
    "'''\n",
    "a = 'asdDas'\n",
    "b=re.sub(r'([a-z])([A-Z])', r'\\1_\\2', a)\n",
    "b     #b = 'asd_das'\n",
    "'''\n",
    "\n",
    "df.columns = df.columns.str.replace(r'([a-z])([A-Z])', r'\\1_\\2', regex=True).str.lower()"
   ]
  },
  {
   "cell_type": "code",
   "execution_count": 4,
   "metadata": {},
   "outputs": [
    {
     "data": {
      "text/plain": [
       "['month', 'visitor_type']"
      ]
     },
     "execution_count": 4,
     "metadata": {},
     "output_type": "execute_result"
    }
   ],
   "source": [
    "strings = list(df.dtypes[df.dtypes == 'object'].index)\n",
    "strings"
   ]
  },
  {
   "cell_type": "code",
   "execution_count": 5,
   "metadata": {},
   "outputs": [],
   "source": [
    "for col in strings:\n",
    "    df[col] = df[col].str.lower()"
   ]
  },
  {
   "cell_type": "code",
   "execution_count": null,
   "metadata": {},
   "outputs": [],
   "source": [
    "df.info()"
   ]
  },
  {
   "cell_type": "markdown",
   "metadata": {},
   "source": [
    "<li>there are no missing values.</li>\n",
    "<li>administrative, informational and product_related are number of pages</li>\n",
    "<li>operating_system, browser, region, traffic_type are formatted as int64 but can be considered as categorical (they have no ordinal meaning)</li>"
   ]
  },
  {
   "cell_type": "code",
   "execution_count": null,
   "metadata": {},
   "outputs": [],
   "source": [
    "df.describe().round()  #this is limited to the 14 numeric features (object and bool dtypes excluded)"
   ]
  },
  {
   "cell_type": "code",
   "execution_count": null,
   "metadata": {},
   "outputs": [],
   "source": [
    "for col in df.columns:\n",
    "    print('column name: ',col)\n",
    "    #print(df[col].unique()[:5])\n",
    "    print('data type: ', df[col].dtype)\n",
    "    print('nbr. of unique values: ',df[col].nunique())\n",
    "    print()"
   ]
  },
  {
   "cell_type": "code",
   "execution_count": null,
   "metadata": {
    "scrolled": true
   },
   "outputs": [],
   "source": [
    "import sys\n",
    "!{sys.executable} -m pip install -U pandas-profiling[notebook]\n",
    "!jupyter nbextension enable --py widgetsnbextension"
   ]
  },
  {
   "cell_type": "code",
   "execution_count": null,
   "metadata": {
    "scrolled": false
   },
   "outputs": [],
   "source": [
    "from pandas_profiling import ProfileReport\n",
    "\n",
    "profile = ProfileReport(df, title=\"Pandas Profiling Report\")\n",
    "\n",
    "#profile.to_widgets()\n",
    "profile.to_notebook_iframe()"
   ]
  },
  {
   "cell_type": "code",
   "execution_count": null,
   "metadata": {},
   "outputs": [],
   "source": [
    "plt.figure(figsize=(15,10))  \n",
    "sns.heatmap(df.corr(),annot=True,linewidths=.5, cmap=\"Blues\")\n",
    "plt.title('Heatmap showing correlations between numerical data')\n",
    "plt.show()"
   ]
  },
  {
   "cell_type": "code",
   "execution_count": 6,
   "metadata": {},
   "outputs": [],
   "source": [
    "target_name = 'revenue'  #True if session ended in a buy\n",
    "\n",
    "data, target = df.drop(columns=target_name), df[target_name]\n",
    "target = (target == True).astype(int)"
   ]
  },
  {
   "cell_type": "code",
   "execution_count": null,
   "metadata": {},
   "outputs": [],
   "source": [
    "#target.unique()\n",
    "target.shape"
   ]
  },
  {
   "cell_type": "code",
   "execution_count": null,
   "metadata": {},
   "outputs": [],
   "source": [
    "data.columns"
   ]
  },
  {
   "cell_type": "code",
   "execution_count": 7,
   "metadata": {},
   "outputs": [
    {
     "name": "stdout",
     "output_type": "stream",
     "text": [
      "<class 'pandas.core.frame.DataFrame'>\n",
      "RangeIndex: 12330 entries, 0 to 12329\n",
      "Data columns (total 17 columns):\n",
      " #   Column                    Non-Null Count  Dtype  \n",
      "---  ------                    --------------  -----  \n",
      " 0   administrative            12330 non-null  int64  \n",
      " 1   administrative_duration   12330 non-null  float64\n",
      " 2   informational             12330 non-null  int64  \n",
      " 3   informational_duration    12330 non-null  float64\n",
      " 4   product_related           12330 non-null  int64  \n",
      " 5   product_related_duration  12330 non-null  float64\n",
      " 6   bounce_rates              12330 non-null  float64\n",
      " 7   exit_rates                12330 non-null  float64\n",
      " 8   page_values               12330 non-null  float64\n",
      " 9   special_day               12330 non-null  float64\n",
      " 10  month                     12330 non-null  object \n",
      " 11  operating_systems         12330 non-null  object \n",
      " 12  browser                   12330 non-null  object \n",
      " 13  region                    12330 non-null  object \n",
      " 14  traffic_type              12330 non-null  object \n",
      " 15  visitor_type              12330 non-null  object \n",
      " 16  weekend                   12330 non-null  bool   \n",
      "dtypes: bool(1), float64(7), int64(3), object(6)\n",
      "memory usage: 1.5+ MB\n"
     ]
    }
   ],
   "source": [
    "#data['weekend'] = data['weekend'].astype(int)\n",
    "\n",
    "numeric_features = ['administrative', 'administrative_duration', 'informational',\n",
    "       'informational_duration', 'product_related', 'product_related_duration',\n",
    "       'bounce_rates', 'exit_rates', 'page_values', 'special_day']\n",
    "\n",
    "data['operating_systems'] = data['operating_systems'].astype(str)\n",
    "data['browser'] = data['browser'].astype(str)\n",
    "data['region'] = data['region'].astype(str)\n",
    "data['traffic_type'] = data['traffic_type'].astype(str)\n",
    "\n",
    "'''\n",
    "categorical_features = ['month',\n",
    "       'operating_systems', 'browser', 'region', 'traffic_type',\n",
    "       'visitor_type']\n",
    "'''\n",
    "categorical_features = list(data.dtypes[data.dtypes == 'object'].index)\n",
    "\n",
    "boolean_features = ['weekend']\n",
    "\n",
    "\n",
    "data = data[numeric_features + categorical_features + boolean_features]\n",
    "\n",
    "\n",
    "data.info()"
   ]
  },
  {
   "cell_type": "code",
   "execution_count": 8,
   "metadata": {},
   "outputs": [
    {
     "data": {
      "text/plain": [
       "array([[0.00000000e+00, 0.00000000e+00, 0.00000000e+00, 0.00000000e+00,\n",
       "        1.00000000e+00, 0.00000000e+00, 2.00000000e-01, 2.00000000e-01,\n",
       "        0.00000000e+00, 0.00000000e+00],\n",
       "       [0.00000000e+00, 0.00000000e+00, 0.00000000e+00, 0.00000000e+00,\n",
       "        2.00000000e+00, 6.40000000e+01, 0.00000000e+00, 1.00000000e-01,\n",
       "        0.00000000e+00, 0.00000000e+00],\n",
       "       [0.00000000e+00, 0.00000000e+00, 0.00000000e+00, 0.00000000e+00,\n",
       "        1.00000000e+00, 0.00000000e+00, 2.00000000e-01, 2.00000000e-01,\n",
       "        0.00000000e+00, 0.00000000e+00],\n",
       "       [0.00000000e+00, 0.00000000e+00, 0.00000000e+00, 0.00000000e+00,\n",
       "        2.00000000e+00, 2.66666667e+00, 5.00000000e-02, 1.40000000e-01,\n",
       "        0.00000000e+00, 0.00000000e+00],\n",
       "       [0.00000000e+00, 0.00000000e+00, 0.00000000e+00, 0.00000000e+00,\n",
       "        1.00000000e+01, 6.27500000e+02, 2.00000000e-02, 5.00000000e-02,\n",
       "        0.00000000e+00, 0.00000000e+00]])"
      ]
     },
     "execution_count": 8,
     "metadata": {},
     "output_type": "execute_result"
    }
   ],
   "source": [
    "#treating outliers in numeric features by normalizing with RobustScaler\n",
    "\n",
    "feature_names = list(data[numeric_features].columns)\n",
    "#feature_names\n",
    "\n",
    "X = data[numeric_features].to_numpy()\n",
    "X[:5,:]"
   ]
  },
  {
   "cell_type": "code",
   "execution_count": 9,
   "metadata": {},
   "outputs": [],
   "source": [
    "norm_data_arr = RobustScaler(quantile_range=(25, 75)).fit_transform(X)"
   ]
  },
  {
   "cell_type": "code",
   "execution_count": null,
   "metadata": {},
   "outputs": [],
   "source": [
    "norm_data_arr[:5,:]"
   ]
  },
  {
   "cell_type": "code",
   "execution_count": 10,
   "metadata": {},
   "outputs": [
    {
     "data": {
      "text/html": [
       "<div>\n",
       "<style scoped>\n",
       "    .dataframe tbody tr th:only-of-type {\n",
       "        vertical-align: middle;\n",
       "    }\n",
       "\n",
       "    .dataframe tbody tr th {\n",
       "        vertical-align: top;\n",
       "    }\n",
       "\n",
       "    .dataframe thead th {\n",
       "        text-align: right;\n",
       "    }\n",
       "</style>\n",
       "<table border=\"1\" class=\"dataframe\">\n",
       "  <thead>\n",
       "    <tr style=\"text-align: right;\">\n",
       "      <th></th>\n",
       "      <th>administrative</th>\n",
       "      <th>administrative_duration</th>\n",
       "      <th>informational</th>\n",
       "      <th>informational_duration</th>\n",
       "      <th>product_related</th>\n",
       "      <th>product_related_duration</th>\n",
       "      <th>bounce_rates</th>\n",
       "      <th>exit_rates</th>\n",
       "      <th>page_values</th>\n",
       "      <th>special_day</th>\n",
       "    </tr>\n",
       "  </thead>\n",
       "  <tbody>\n",
       "    <tr>\n",
       "      <th>0</th>\n",
       "      <td>-0.25</td>\n",
       "      <td>-0.080424</td>\n",
       "      <td>0.0</td>\n",
       "      <td>0.0</td>\n",
       "      <td>-0.548387</td>\n",
       "      <td>-0.467912</td>\n",
       "      <td>11.710742</td>\n",
       "      <td>4.895621</td>\n",
       "      <td>0.0</td>\n",
       "      <td>0.0</td>\n",
       "    </tr>\n",
       "    <tr>\n",
       "      <th>1</th>\n",
       "      <td>-0.25</td>\n",
       "      <td>-0.080424</td>\n",
       "      <td>0.0</td>\n",
       "      <td>0.0</td>\n",
       "      <td>-0.516129</td>\n",
       "      <td>-0.417913</td>\n",
       "      <td>-0.185128</td>\n",
       "      <td>2.095621</td>\n",
       "      <td>0.0</td>\n",
       "      <td>0.0</td>\n",
       "    </tr>\n",
       "    <tr>\n",
       "      <th>2</th>\n",
       "      <td>-0.25</td>\n",
       "      <td>-0.080424</td>\n",
       "      <td>0.0</td>\n",
       "      <td>0.0</td>\n",
       "      <td>-0.548387</td>\n",
       "      <td>-0.467912</td>\n",
       "      <td>11.710742</td>\n",
       "      <td>4.895621</td>\n",
       "      <td>0.0</td>\n",
       "      <td>0.0</td>\n",
       "    </tr>\n",
       "    <tr>\n",
       "      <th>3</th>\n",
       "      <td>-0.25</td>\n",
       "      <td>-0.080424</td>\n",
       "      <td>0.0</td>\n",
       "      <td>0.0</td>\n",
       "      <td>-0.516129</td>\n",
       "      <td>-0.465829</td>\n",
       "      <td>2.788840</td>\n",
       "      <td>3.215621</td>\n",
       "      <td>0.0</td>\n",
       "      <td>0.0</td>\n",
       "    </tr>\n",
       "    <tr>\n",
       "      <th>4</th>\n",
       "      <td>-0.25</td>\n",
       "      <td>-0.080424</td>\n",
       "      <td>0.0</td>\n",
       "      <td>0.0</td>\n",
       "      <td>-0.258065</td>\n",
       "      <td>0.022315</td>\n",
       "      <td>1.004459</td>\n",
       "      <td>0.695621</td>\n",
       "      <td>0.0</td>\n",
       "      <td>0.0</td>\n",
       "    </tr>\n",
       "  </tbody>\n",
       "</table>\n",
       "</div>"
      ],
      "text/plain": [
       "   administrative  administrative_duration  informational  \\\n",
       "0           -0.25                -0.080424            0.0   \n",
       "1           -0.25                -0.080424            0.0   \n",
       "2           -0.25                -0.080424            0.0   \n",
       "3           -0.25                -0.080424            0.0   \n",
       "4           -0.25                -0.080424            0.0   \n",
       "\n",
       "   informational_duration  product_related  product_related_duration  \\\n",
       "0                     0.0        -0.548387                 -0.467912   \n",
       "1                     0.0        -0.516129                 -0.417913   \n",
       "2                     0.0        -0.548387                 -0.467912   \n",
       "3                     0.0        -0.516129                 -0.465829   \n",
       "4                     0.0        -0.258065                  0.022315   \n",
       "\n",
       "   bounce_rates  exit_rates  page_values  special_day  \n",
       "0     11.710742    4.895621          0.0          0.0  \n",
       "1     -0.185128    2.095621          0.0          0.0  \n",
       "2     11.710742    4.895621          0.0          0.0  \n",
       "3      2.788840    3.215621          0.0          0.0  \n",
       "4      1.004459    0.695621          0.0          0.0  "
      ]
     },
     "execution_count": 10,
     "metadata": {},
     "output_type": "execute_result"
    }
   ],
   "source": [
    "norm_data = pd.DataFrame(norm_data_arr, columns = feature_names)\n",
    "norm_data.head()"
   ]
  },
  {
   "cell_type": "code",
   "execution_count": 11,
   "metadata": {},
   "outputs": [
    {
     "data": {
      "text/html": [
       "<div>\n",
       "<style scoped>\n",
       "    .dataframe tbody tr th:only-of-type {\n",
       "        vertical-align: middle;\n",
       "    }\n",
       "\n",
       "    .dataframe tbody tr th {\n",
       "        vertical-align: top;\n",
       "    }\n",
       "\n",
       "    .dataframe thead th {\n",
       "        text-align: right;\n",
       "    }\n",
       "</style>\n",
       "<table border=\"1\" class=\"dataframe\">\n",
       "  <thead>\n",
       "    <tr style=\"text-align: right;\">\n",
       "      <th></th>\n",
       "      <th>administrative</th>\n",
       "      <th>administrative_duration</th>\n",
       "      <th>informational</th>\n",
       "      <th>informational_duration</th>\n",
       "      <th>product_related</th>\n",
       "      <th>product_related_duration</th>\n",
       "      <th>bounce_rates</th>\n",
       "      <th>exit_rates</th>\n",
       "      <th>page_values</th>\n",
       "      <th>special_day</th>\n",
       "      <th>month</th>\n",
       "      <th>operating_systems</th>\n",
       "      <th>browser</th>\n",
       "      <th>region</th>\n",
       "      <th>traffic_type</th>\n",
       "      <th>visitor_type</th>\n",
       "      <th>weekend</th>\n",
       "      <th>revenue</th>\n",
       "    </tr>\n",
       "  </thead>\n",
       "  <tbody>\n",
       "    <tr>\n",
       "      <th>0</th>\n",
       "      <td>-0.25</td>\n",
       "      <td>-0.080424</td>\n",
       "      <td>0.0</td>\n",
       "      <td>0.0</td>\n",
       "      <td>-0.548387</td>\n",
       "      <td>-0.467912</td>\n",
       "      <td>11.710742</td>\n",
       "      <td>4.895621</td>\n",
       "      <td>0.0</td>\n",
       "      <td>0.0</td>\n",
       "      <td>feb</td>\n",
       "      <td>1</td>\n",
       "      <td>1</td>\n",
       "      <td>1</td>\n",
       "      <td>1</td>\n",
       "      <td>returning_visitor</td>\n",
       "      <td>False</td>\n",
       "      <td>0</td>\n",
       "    </tr>\n",
       "    <tr>\n",
       "      <th>1</th>\n",
       "      <td>-0.25</td>\n",
       "      <td>-0.080424</td>\n",
       "      <td>0.0</td>\n",
       "      <td>0.0</td>\n",
       "      <td>-0.516129</td>\n",
       "      <td>-0.417913</td>\n",
       "      <td>-0.185128</td>\n",
       "      <td>2.095621</td>\n",
       "      <td>0.0</td>\n",
       "      <td>0.0</td>\n",
       "      <td>feb</td>\n",
       "      <td>2</td>\n",
       "      <td>2</td>\n",
       "      <td>1</td>\n",
       "      <td>2</td>\n",
       "      <td>returning_visitor</td>\n",
       "      <td>False</td>\n",
       "      <td>0</td>\n",
       "    </tr>\n",
       "    <tr>\n",
       "      <th>2</th>\n",
       "      <td>-0.25</td>\n",
       "      <td>-0.080424</td>\n",
       "      <td>0.0</td>\n",
       "      <td>0.0</td>\n",
       "      <td>-0.548387</td>\n",
       "      <td>-0.467912</td>\n",
       "      <td>11.710742</td>\n",
       "      <td>4.895621</td>\n",
       "      <td>0.0</td>\n",
       "      <td>0.0</td>\n",
       "      <td>feb</td>\n",
       "      <td>4</td>\n",
       "      <td>1</td>\n",
       "      <td>9</td>\n",
       "      <td>3</td>\n",
       "      <td>returning_visitor</td>\n",
       "      <td>False</td>\n",
       "      <td>0</td>\n",
       "    </tr>\n",
       "    <tr>\n",
       "      <th>3</th>\n",
       "      <td>-0.25</td>\n",
       "      <td>-0.080424</td>\n",
       "      <td>0.0</td>\n",
       "      <td>0.0</td>\n",
       "      <td>-0.516129</td>\n",
       "      <td>-0.465829</td>\n",
       "      <td>2.788840</td>\n",
       "      <td>3.215621</td>\n",
       "      <td>0.0</td>\n",
       "      <td>0.0</td>\n",
       "      <td>feb</td>\n",
       "      <td>3</td>\n",
       "      <td>2</td>\n",
       "      <td>2</td>\n",
       "      <td>4</td>\n",
       "      <td>returning_visitor</td>\n",
       "      <td>False</td>\n",
       "      <td>0</td>\n",
       "    </tr>\n",
       "    <tr>\n",
       "      <th>4</th>\n",
       "      <td>-0.25</td>\n",
       "      <td>-0.080424</td>\n",
       "      <td>0.0</td>\n",
       "      <td>0.0</td>\n",
       "      <td>-0.258065</td>\n",
       "      <td>0.022315</td>\n",
       "      <td>1.004459</td>\n",
       "      <td>0.695621</td>\n",
       "      <td>0.0</td>\n",
       "      <td>0.0</td>\n",
       "      <td>feb</td>\n",
       "      <td>3</td>\n",
       "      <td>3</td>\n",
       "      <td>1</td>\n",
       "      <td>4</td>\n",
       "      <td>returning_visitor</td>\n",
       "      <td>True</td>\n",
       "      <td>0</td>\n",
       "    </tr>\n",
       "  </tbody>\n",
       "</table>\n",
       "</div>"
      ],
      "text/plain": [
       "   administrative  administrative_duration  informational  \\\n",
       "0           -0.25                -0.080424            0.0   \n",
       "1           -0.25                -0.080424            0.0   \n",
       "2           -0.25                -0.080424            0.0   \n",
       "3           -0.25                -0.080424            0.0   \n",
       "4           -0.25                -0.080424            0.0   \n",
       "\n",
       "   informational_duration  product_related  product_related_duration  \\\n",
       "0                     0.0        -0.548387                 -0.467912   \n",
       "1                     0.0        -0.516129                 -0.417913   \n",
       "2                     0.0        -0.548387                 -0.467912   \n",
       "3                     0.0        -0.516129                 -0.465829   \n",
       "4                     0.0        -0.258065                  0.022315   \n",
       "\n",
       "   bounce_rates  exit_rates  page_values  special_day month operating_systems  \\\n",
       "0     11.710742    4.895621          0.0          0.0   feb                 1   \n",
       "1     -0.185128    2.095621          0.0          0.0   feb                 2   \n",
       "2     11.710742    4.895621          0.0          0.0   feb                 4   \n",
       "3      2.788840    3.215621          0.0          0.0   feb                 3   \n",
       "4      1.004459    0.695621          0.0          0.0   feb                 3   \n",
       "\n",
       "  browser region traffic_type       visitor_type  weekend  revenue  \n",
       "0       1      1            1  returning_visitor    False        0  \n",
       "1       2      1            2  returning_visitor    False        0  \n",
       "2       1      9            3  returning_visitor    False        0  \n",
       "3       2      2            4  returning_visitor    False        0  \n",
       "4       3      1            4  returning_visitor     True        0  "
      ]
     },
     "execution_count": 11,
     "metadata": {},
     "output_type": "execute_result"
    }
   ],
   "source": [
    "df_preproc = pd.concat([norm_data, data[categorical_features], data[boolean_features], target], axis = 1)\n",
    "df_preproc.head()"
   ]
  },
  {
   "cell_type": "code",
   "execution_count": null,
   "metadata": {},
   "outputs": [],
   "source": [
    "profile2 = ProfileReport(df_preproc, title=\"Pandas Profiling Report\")\n",
    "\n",
    "#profile2.to_widgets()\n",
    "profile2.to_notebook_iframe()"
   ]
  },
  {
   "cell_type": "code",
   "execution_count": 12,
   "metadata": {},
   "outputs": [],
   "source": [
    "#preparing for evaluation of first model..\n",
    "\n",
    "df_full_train, df_test = train_test_split(df_preproc, test_size=0.2, random_state=1)\n",
    "df_train, df_val = train_test_split(df_full_train, test_size=0.25, random_state=1)\n",
    "\n",
    "df_train = df_train.reset_index(drop=True)\n",
    "df_val = df_val.reset_index(drop=True)\n",
    "df_test = df_test.reset_index(drop=True)\n",
    "\n",
    "y_train = df_train.revenue.values\n",
    "y_val = df_val.revenue.values\n",
    "y_test = df_test.revenue.values\n",
    "\n",
    "del df_train['revenue']\n",
    "del df_val['revenue']\n",
    "del df_test['revenue']"
   ]
  },
  {
   "cell_type": "code",
   "execution_count": 13,
   "metadata": {},
   "outputs": [
    {
     "data": {
      "text/plain": [
       "((7398, 17), (2466, 17), (2466, 17))"
      ]
     },
     "execution_count": 13,
     "metadata": {},
     "output_type": "execute_result"
    }
   ],
   "source": [
    "df_train.shape, df_val.shape, df_test.shape"
   ]
  },
  {
   "cell_type": "markdown",
   "metadata": {},
   "source": [
    "**first experiment: 2 models (LR and RF), no hyperparam tuning, no cross_val**"
   ]
  },
  {
   "cell_type": "code",
   "execution_count": 34,
   "metadata": {},
   "outputs": [],
   "source": [
    "#one hot encoding of categorical features\n",
    "dv = DictVectorizer(sparse=False)\n",
    "\n",
    "train_dict = df_train[numeric_features + categorical_features + boolean_features].to_dict(orient='records')\n",
    "X_train = dv.fit_transform(train_dict)"
   ]
  },
  {
   "cell_type": "code",
   "execution_count": 24,
   "metadata": {},
   "outputs": [
    {
     "data": {
      "text/plain": [
       "(7398, 72)"
      ]
     },
     "execution_count": 24,
     "metadata": {},
     "output_type": "execute_result"
    }
   ],
   "source": [
    "X_train.shape"
   ]
  },
  {
   "cell_type": "code",
   "execution_count": 75,
   "metadata": {
    "scrolled": true
   },
   "outputs": [
    {
     "data": {
      "text/plain": [
       "['administrative',\n",
       " 'administrative_duration',\n",
       " 'bounce_rates',\n",
       " 'browser=1',\n",
       " 'browser=10',\n",
       " 'browser=11',\n",
       " 'browser=12',\n",
       " 'browser=13',\n",
       " 'browser=2',\n",
       " 'browser=3',\n",
       " 'browser=4',\n",
       " 'browser=5',\n",
       " 'browser=6',\n",
       " 'browser=7',\n",
       " 'browser=8',\n",
       " 'exit_rates',\n",
       " 'informational',\n",
       " 'informational_duration',\n",
       " 'month=aug',\n",
       " 'month=dec',\n",
       " 'month=feb',\n",
       " 'month=jul',\n",
       " 'month=june',\n",
       " 'month=mar',\n",
       " 'month=may',\n",
       " 'month=nov',\n",
       " 'month=oct',\n",
       " 'month=sep',\n",
       " 'operating_systems=1',\n",
       " 'operating_systems=2',\n",
       " 'operating_systems=3',\n",
       " 'operating_systems=4',\n",
       " 'operating_systems=5',\n",
       " 'operating_systems=6',\n",
       " 'operating_systems=7',\n",
       " 'operating_systems=8',\n",
       " 'page_values',\n",
       " 'product_related',\n",
       " 'product_related_duration',\n",
       " 'region=1',\n",
       " 'region=2',\n",
       " 'region=3',\n",
       " 'region=4',\n",
       " 'region=5',\n",
       " 'region=6',\n",
       " 'region=7',\n",
       " 'region=8',\n",
       " 'region=9',\n",
       " 'special_day',\n",
       " 'traffic_type=1',\n",
       " 'traffic_type=10',\n",
       " 'traffic_type=11',\n",
       " 'traffic_type=13',\n",
       " 'traffic_type=14',\n",
       " 'traffic_type=15',\n",
       " 'traffic_type=16',\n",
       " 'traffic_type=17',\n",
       " 'traffic_type=18',\n",
       " 'traffic_type=19',\n",
       " 'traffic_type=2',\n",
       " 'traffic_type=20',\n",
       " 'traffic_type=3',\n",
       " 'traffic_type=4',\n",
       " 'traffic_type=5',\n",
       " 'traffic_type=6',\n",
       " 'traffic_type=7',\n",
       " 'traffic_type=8',\n",
       " 'traffic_type=9',\n",
       " 'visitor_type=new_visitor',\n",
       " 'visitor_type=other',\n",
       " 'visitor_type=returning_visitor',\n",
       " 'weekend']"
      ]
     },
     "execution_count": 75,
     "metadata": {},
     "output_type": "execute_result"
    }
   ],
   "source": [
    "dv.feature_names_"
   ]
  },
  {
   "cell_type": "code",
   "execution_count": 37,
   "metadata": {},
   "outputs": [],
   "source": [
    "val_dict = df_val[numeric_features + categorical_features + boolean_features].to_dict(orient='records')\n",
    "X_val = dv.transform(val_dict)"
   ]
  },
  {
   "cell_type": "code",
   "execution_count": 27,
   "metadata": {},
   "outputs": [
    {
     "data": {
      "text/html": [
       "<style>#sk-container-id-1 {color: black;background-color: white;}#sk-container-id-1 pre{padding: 0;}#sk-container-id-1 div.sk-toggleable {background-color: white;}#sk-container-id-1 label.sk-toggleable__label {cursor: pointer;display: block;width: 100%;margin-bottom: 0;padding: 0.3em;box-sizing: border-box;text-align: center;}#sk-container-id-1 label.sk-toggleable__label-arrow:before {content: \"▸\";float: left;margin-right: 0.25em;color: #696969;}#sk-container-id-1 label.sk-toggleable__label-arrow:hover:before {color: black;}#sk-container-id-1 div.sk-estimator:hover label.sk-toggleable__label-arrow:before {color: black;}#sk-container-id-1 div.sk-toggleable__content {max-height: 0;max-width: 0;overflow: hidden;text-align: left;background-color: #f0f8ff;}#sk-container-id-1 div.sk-toggleable__content pre {margin: 0.2em;color: black;border-radius: 0.25em;background-color: #f0f8ff;}#sk-container-id-1 input.sk-toggleable__control:checked~div.sk-toggleable__content {max-height: 200px;max-width: 100%;overflow: auto;}#sk-container-id-1 input.sk-toggleable__control:checked~label.sk-toggleable__label-arrow:before {content: \"▾\";}#sk-container-id-1 div.sk-estimator input.sk-toggleable__control:checked~label.sk-toggleable__label {background-color: #d4ebff;}#sk-container-id-1 div.sk-label input.sk-toggleable__control:checked~label.sk-toggleable__label {background-color: #d4ebff;}#sk-container-id-1 input.sk-hidden--visually {border: 0;clip: rect(1px 1px 1px 1px);clip: rect(1px, 1px, 1px, 1px);height: 1px;margin: -1px;overflow: hidden;padding: 0;position: absolute;width: 1px;}#sk-container-id-1 div.sk-estimator {font-family: monospace;background-color: #f0f8ff;border: 1px dotted black;border-radius: 0.25em;box-sizing: border-box;margin-bottom: 0.5em;}#sk-container-id-1 div.sk-estimator:hover {background-color: #d4ebff;}#sk-container-id-1 div.sk-parallel-item::after {content: \"\";width: 100%;border-bottom: 1px solid gray;flex-grow: 1;}#sk-container-id-1 div.sk-label:hover label.sk-toggleable__label {background-color: #d4ebff;}#sk-container-id-1 div.sk-serial::before {content: \"\";position: absolute;border-left: 1px solid gray;box-sizing: border-box;top: 0;bottom: 0;left: 50%;z-index: 0;}#sk-container-id-1 div.sk-serial {display: flex;flex-direction: column;align-items: center;background-color: white;padding-right: 0.2em;padding-left: 0.2em;position: relative;}#sk-container-id-1 div.sk-item {position: relative;z-index: 1;}#sk-container-id-1 div.sk-parallel {display: flex;align-items: stretch;justify-content: center;background-color: white;position: relative;}#sk-container-id-1 div.sk-item::before, #sk-container-id-1 div.sk-parallel-item::before {content: \"\";position: absolute;border-left: 1px solid gray;box-sizing: border-box;top: 0;bottom: 0;left: 50%;z-index: -1;}#sk-container-id-1 div.sk-parallel-item {display: flex;flex-direction: column;z-index: 1;position: relative;background-color: white;}#sk-container-id-1 div.sk-parallel-item:first-child::after {align-self: flex-end;width: 50%;}#sk-container-id-1 div.sk-parallel-item:last-child::after {align-self: flex-start;width: 50%;}#sk-container-id-1 div.sk-parallel-item:only-child::after {width: 0;}#sk-container-id-1 div.sk-dashed-wrapped {border: 1px dashed gray;margin: 0 0.4em 0.5em 0.4em;box-sizing: border-box;padding-bottom: 0.4em;background-color: white;}#sk-container-id-1 div.sk-label label {font-family: monospace;font-weight: bold;display: inline-block;line-height: 1.2em;}#sk-container-id-1 div.sk-label-container {text-align: center;}#sk-container-id-1 div.sk-container {/* jupyter's `normalize.less` sets `[hidden] { display: none; }` but bootstrap.min.css set `[hidden] { display: none !important; }` so we also need the `!important` here to be able to override the default hidden behavior on the sphinx rendered scikit-learn.org. See: https://github.com/scikit-learn/scikit-learn/issues/21755 */display: inline-block !important;position: relative;}#sk-container-id-1 div.sk-text-repr-fallback {display: none;}</style><div id=\"sk-container-id-1\" class=\"sk-top-container\"><div class=\"sk-text-repr-fallback\"><pre>LogisticRegression()</pre><b>In a Jupyter environment, please rerun this cell to show the HTML representation or trust the notebook. <br />On GitHub, the HTML representation is unable to render, please try loading this page with nbviewer.org.</b></div><div class=\"sk-container\" hidden><div class=\"sk-item\"><div class=\"sk-estimator sk-toggleable\"><input class=\"sk-toggleable__control sk-hidden--visually\" id=\"sk-estimator-id-1\" type=\"checkbox\" checked><label for=\"sk-estimator-id-1\" class=\"sk-toggleable__label sk-toggleable__label-arrow\">LogisticRegression</label><div class=\"sk-toggleable__content\"><pre>LogisticRegression()</pre></div></div></div></div></div>"
      ],
      "text/plain": [
       "LogisticRegression()"
      ]
     },
     "execution_count": 27,
     "metadata": {},
     "output_type": "execute_result"
    }
   ],
   "source": [
    "# first model is LogisticRegression()\n",
    "model = LogisticRegression(random_state=1)\n",
    "model.fit(X_train, y_train)"
   ]
  },
  {
   "cell_type": "code",
   "execution_count": 28,
   "metadata": {},
   "outputs": [],
   "source": [
    "y_pred = model.predict_proba(X_val)[:, 1]\n",
    "realized_revenue = (y_pred >= 0.5)"
   ]
  },
  {
   "cell_type": "code",
   "execution_count": 29,
   "metadata": {},
   "outputs": [
    {
     "data": {
      "text/plain": [
       "0.8828061638280617"
      ]
     },
     "execution_count": 29,
     "metadata": {},
     "output_type": "execute_result"
    }
   ],
   "source": [
    "#accuracy of the LogisticRegression() model\n",
    "(y_val == realized_revenue).mean()"
   ]
  },
  {
   "cell_type": "code",
   "execution_count": 30,
   "metadata": {},
   "outputs": [
    {
     "data": {
      "text/plain": [
       "0.8418491484184915"
      ]
     },
     "execution_count": 30,
     "metadata": {},
     "output_type": "execute_result"
    }
   ],
   "source": [
    "#accuracy of the dummy model, which decides always in favour of the majority class (in this case the class revenue == 0)\n",
    "1 - y_val.mean()  "
   ]
  },
  {
   "cell_type": "code",
   "execution_count": 32,
   "metadata": {},
   "outputs": [],
   "source": [
    "#calculating false_pos, t_pos for different threshold\n",
    "fpr1, tpr1, thresholds1 = roc_curve(y_val, y_pred)"
   ]
  },
  {
   "cell_type": "code",
   "execution_count": null,
   "metadata": {},
   "outputs": [],
   "source": [
    "#ROC curve for the first model\n",
    "\n",
    "plt.figure(figsize=(5, 5))\n",
    "\n",
    "plt.plot(fpr1, tpr1, label='Model')\n",
    "plt.plot([0, 1], [0, 1], label='Random', linestyle='--')\n",
    "\n",
    "plt.xlabel('FPR')\n",
    "plt.ylabel('TPR')\n",
    "\n",
    "plt.legend()"
   ]
  },
  {
   "cell_type": "code",
   "execution_count": 33,
   "metadata": {},
   "outputs": [
    {
     "data": {
      "text/plain": [
       "0.8941443110518255"
      ]
     },
     "execution_count": 33,
     "metadata": {},
     "output_type": "execute_result"
    }
   ],
   "source": [
    "#AUC metric\n",
    "auc(fpr1, tpr1)"
   ]
  },
  {
   "cell_type": "code",
   "execution_count": 34,
   "metadata": {},
   "outputs": [
    {
     "data": {
      "text/plain": [
       "0.8941443110518255"
      ]
     },
     "execution_count": 34,
     "metadata": {},
     "output_type": "execute_result"
    }
   ],
   "source": [
    "#ROC-AUC score\n",
    "roc_auc_score(y_val, y_pred)"
   ]
  },
  {
   "cell_type": "code",
   "execution_count": null,
   "metadata": {},
   "outputs": [],
   "source": [
    "#ROC-AUC score for evaluation of feature importance\n",
    "\n",
    "feat_list = []\n",
    "\n",
    "for c in numeric_features:\n",
    "    auc = roc_auc_score(y_train, df_train[c])\n",
    "    if auc < 0.5:\n",
    "        auc = roc_auc_score(y_train, -df_train[c])\n",
    "#    print('%9s, %.3f' % (c, auc))\n",
    "    feat_list.append((c, auc))\n",
    "\n",
    "sorted(feat_list, key=lambda tup: tup[1], reverse=True)"
   ]
  },
  {
   "cell_type": "code",
   "execution_count": null,
   "metadata": {},
   "outputs": [],
   "source": [
    "#calculating mutual information to assess feature importance of categorical features\n",
    "\n",
    "def calculate_mi(series):\n",
    "    return mutual_info_score(series, y_train)\n",
    "\n",
    "#@ IMPLEMENTATION:\n",
    "df_mi = df_train[categorical_features].apply(calculate_mi)\n",
    "df_mi = df_mi.sort_values(ascending=False).to_frame(name='MI')\n",
    "df_mi"
   ]
  },
  {
   "cell_type": "code",
   "execution_count": 92,
   "metadata": {},
   "outputs": [
    {
     "data": {
      "text/html": [
       "<style>#sk-container-id-9 {color: black;background-color: white;}#sk-container-id-9 pre{padding: 0;}#sk-container-id-9 div.sk-toggleable {background-color: white;}#sk-container-id-9 label.sk-toggleable__label {cursor: pointer;display: block;width: 100%;margin-bottom: 0;padding: 0.3em;box-sizing: border-box;text-align: center;}#sk-container-id-9 label.sk-toggleable__label-arrow:before {content: \"▸\";float: left;margin-right: 0.25em;color: #696969;}#sk-container-id-9 label.sk-toggleable__label-arrow:hover:before {color: black;}#sk-container-id-9 div.sk-estimator:hover label.sk-toggleable__label-arrow:before {color: black;}#sk-container-id-9 div.sk-toggleable__content {max-height: 0;max-width: 0;overflow: hidden;text-align: left;background-color: #f0f8ff;}#sk-container-id-9 div.sk-toggleable__content pre {margin: 0.2em;color: black;border-radius: 0.25em;background-color: #f0f8ff;}#sk-container-id-9 input.sk-toggleable__control:checked~div.sk-toggleable__content {max-height: 200px;max-width: 100%;overflow: auto;}#sk-container-id-9 input.sk-toggleable__control:checked~label.sk-toggleable__label-arrow:before {content: \"▾\";}#sk-container-id-9 div.sk-estimator input.sk-toggleable__control:checked~label.sk-toggleable__label {background-color: #d4ebff;}#sk-container-id-9 div.sk-label input.sk-toggleable__control:checked~label.sk-toggleable__label {background-color: #d4ebff;}#sk-container-id-9 input.sk-hidden--visually {border: 0;clip: rect(1px 1px 1px 1px);clip: rect(1px, 1px, 1px, 1px);height: 1px;margin: -1px;overflow: hidden;padding: 0;position: absolute;width: 1px;}#sk-container-id-9 div.sk-estimator {font-family: monospace;background-color: #f0f8ff;border: 1px dotted black;border-radius: 0.25em;box-sizing: border-box;margin-bottom: 0.5em;}#sk-container-id-9 div.sk-estimator:hover {background-color: #d4ebff;}#sk-container-id-9 div.sk-parallel-item::after {content: \"\";width: 100%;border-bottom: 1px solid gray;flex-grow: 1;}#sk-container-id-9 div.sk-label:hover label.sk-toggleable__label {background-color: #d4ebff;}#sk-container-id-9 div.sk-serial::before {content: \"\";position: absolute;border-left: 1px solid gray;box-sizing: border-box;top: 0;bottom: 0;left: 50%;z-index: 0;}#sk-container-id-9 div.sk-serial {display: flex;flex-direction: column;align-items: center;background-color: white;padding-right: 0.2em;padding-left: 0.2em;position: relative;}#sk-container-id-9 div.sk-item {position: relative;z-index: 1;}#sk-container-id-9 div.sk-parallel {display: flex;align-items: stretch;justify-content: center;background-color: white;position: relative;}#sk-container-id-9 div.sk-item::before, #sk-container-id-9 div.sk-parallel-item::before {content: \"\";position: absolute;border-left: 1px solid gray;box-sizing: border-box;top: 0;bottom: 0;left: 50%;z-index: -1;}#sk-container-id-9 div.sk-parallel-item {display: flex;flex-direction: column;z-index: 1;position: relative;background-color: white;}#sk-container-id-9 div.sk-parallel-item:first-child::after {align-self: flex-end;width: 50%;}#sk-container-id-9 div.sk-parallel-item:last-child::after {align-self: flex-start;width: 50%;}#sk-container-id-9 div.sk-parallel-item:only-child::after {width: 0;}#sk-container-id-9 div.sk-dashed-wrapped {border: 1px dashed gray;margin: 0 0.4em 0.5em 0.4em;box-sizing: border-box;padding-bottom: 0.4em;background-color: white;}#sk-container-id-9 div.sk-label label {font-family: monospace;font-weight: bold;display: inline-block;line-height: 1.2em;}#sk-container-id-9 div.sk-label-container {text-align: center;}#sk-container-id-9 div.sk-container {/* jupyter's `normalize.less` sets `[hidden] { display: none; }` but bootstrap.min.css set `[hidden] { display: none !important; }` so we also need the `!important` here to be able to override the default hidden behavior on the sphinx rendered scikit-learn.org. See: https://github.com/scikit-learn/scikit-learn/issues/21755 */display: inline-block !important;position: relative;}#sk-container-id-9 div.sk-text-repr-fallback {display: none;}</style><div id=\"sk-container-id-9\" class=\"sk-top-container\"><div class=\"sk-text-repr-fallback\"><pre>RandomForestClassifier(random_state=1)</pre><b>In a Jupyter environment, please rerun this cell to show the HTML representation or trust the notebook. <br />On GitHub, the HTML representation is unable to render, please try loading this page with nbviewer.org.</b></div><div class=\"sk-container\" hidden><div class=\"sk-item\"><div class=\"sk-estimator sk-toggleable\"><input class=\"sk-toggleable__control sk-hidden--visually\" id=\"sk-estimator-id-19\" type=\"checkbox\" checked><label for=\"sk-estimator-id-19\" class=\"sk-toggleable__label sk-toggleable__label-arrow\">RandomForestClassifier</label><div class=\"sk-toggleable__content\"><pre>RandomForestClassifier(random_state=1)</pre></div></div></div></div></div>"
      ],
      "text/plain": [
       "RandomForestClassifier(random_state=1)"
      ]
     },
     "execution_count": 92,
     "metadata": {},
     "output_type": "execute_result"
    }
   ],
   "source": [
    "#the second model is RandomForestClassifier()\n",
    "\n",
    "rf = RandomForestClassifier(random_state=1)\n",
    "rf.fit(X_train, y_train)"
   ]
  },
  {
   "cell_type": "code",
   "execution_count": 93,
   "metadata": {},
   "outputs": [],
   "source": [
    "y_pred = rf.predict_proba(X_val)[:, 1]\n",
    "realized_revenue = (y_pred >= 0.5)"
   ]
  },
  {
   "cell_type": "code",
   "execution_count": 94,
   "metadata": {},
   "outputs": [
    {
     "data": {
      "text/plain": [
       "0.8982157339821574"
      ]
     },
     "execution_count": 94,
     "metadata": {},
     "output_type": "execute_result"
    }
   ],
   "source": [
    "#accuracy of the RandomForestClassifier() model\n",
    "(y_val == realized_revenue).mean()"
   ]
  },
  {
   "cell_type": "code",
   "execution_count": 95,
   "metadata": {},
   "outputs": [
    {
     "data": {
      "text/plain": [
       "0.9315158589002519"
      ]
     },
     "execution_count": 95,
     "metadata": {},
     "output_type": "execute_result"
    }
   ],
   "source": [
    "fpr2, tpr2, thresholds2 = roc_curve(y_val, y_pred)\n",
    "\n",
    "#AUC metric\n",
    "auc(fpr2, tpr2)"
   ]
  },
  {
   "cell_type": "code",
   "execution_count": null,
   "metadata": {
    "scrolled": true
   },
   "outputs": [],
   "source": [
    "plt.figure(figsize=(5, 5))\n",
    "\n",
    "plt.plot(fpr1, tpr1, label='Model 1 - lr')\n",
    "plt.plot(fpr2, tpr2, label='Model 2 - rf')\n",
    "plt.plot([0, 1], [0, 1], label='Random', linestyle='--')\n",
    "\n",
    "plt.xlabel('FPR')\n",
    "plt.ylabel('TPR')\n",
    "\n",
    "plt.legend()"
   ]
  },
  {
   "cell_type": "code",
   "execution_count": null,
   "metadata": {},
   "outputs": [],
   "source": []
  },
  {
   "cell_type": "markdown",
   "metadata": {},
   "source": [
    "**second experiment: estimating generalization error via nested cross_val. Note that nested cross-val is suited for small datasets like our that is under 10000 rows**"
   ]
  },
  {
   "cell_type": "code",
   "execution_count": 14,
   "metadata": {},
   "outputs": [],
   "source": [
    "#because we are going to use cross-val there is no need to separate train and val\n",
    "\n",
    "df_full_train = df_full_train.reset_index(drop=True)\n",
    "y_full_train = df_full_train.revenue.values\n",
    "del df_full_train['revenue']"
   ]
  },
  {
   "cell_type": "code",
   "execution_count": 15,
   "metadata": {},
   "outputs": [
    {
     "data": {
      "text/plain": [
       "(9864, 17)"
      ]
     },
     "execution_count": 15,
     "metadata": {},
     "output_type": "execute_result"
    }
   ],
   "source": [
    "df_full_train.shape"
   ]
  },
  {
   "cell_type": "code",
   "execution_count": 76,
   "metadata": {},
   "outputs": [],
   "source": [
    "#one hot encoding of categorical features (non need of separated train and val, in view of cross-validation)\n",
    "dv = DictVectorizer(sparse=False)\n",
    "\n",
    "train_dict = df_full_train[numeric_features + categorical_features + boolean_features].to_dict(orient='records')\n",
    "X_full_train = dv.fit_transform(train_dict)"
   ]
  },
  {
   "cell_type": "code",
   "execution_count": 77,
   "metadata": {},
   "outputs": [
    {
     "data": {
      "text/plain": [
       "(9864, 74)"
      ]
     },
     "execution_count": 77,
     "metadata": {},
     "output_type": "execute_result"
    }
   ],
   "source": [
    "X_full_train.shape"
   ]
  },
  {
   "cell_type": "code",
   "execution_count": 79,
   "metadata": {},
   "outputs": [
    {
     "data": {
      "text/plain": [
       "['administrative',\n",
       " 'administrative_duration',\n",
       " 'bounce_rates',\n",
       " 'browser=1',\n",
       " 'browser=10',\n",
       " 'browser=11',\n",
       " 'browser=12',\n",
       " 'browser=13',\n",
       " 'browser=2',\n",
       " 'browser=3',\n",
       " 'browser=4',\n",
       " 'browser=5',\n",
       " 'browser=6',\n",
       " 'browser=7',\n",
       " 'browser=8',\n",
       " 'browser=9',\n",
       " 'exit_rates',\n",
       " 'informational',\n",
       " 'informational_duration',\n",
       " 'month=aug',\n",
       " 'month=dec',\n",
       " 'month=feb',\n",
       " 'month=jul',\n",
       " 'month=june',\n",
       " 'month=mar',\n",
       " 'month=may',\n",
       " 'month=nov',\n",
       " 'month=oct',\n",
       " 'month=sep',\n",
       " 'operating_systems=1',\n",
       " 'operating_systems=2',\n",
       " 'operating_systems=3',\n",
       " 'operating_systems=4',\n",
       " 'operating_systems=5',\n",
       " 'operating_systems=6',\n",
       " 'operating_systems=7',\n",
       " 'operating_systems=8',\n",
       " 'page_values',\n",
       " 'product_related',\n",
       " 'product_related_duration',\n",
       " 'region=1',\n",
       " 'region=2',\n",
       " 'region=3',\n",
       " 'region=4',\n",
       " 'region=5',\n",
       " 'region=6',\n",
       " 'region=7',\n",
       " 'region=8',\n",
       " 'region=9',\n",
       " 'special_day',\n",
       " 'traffic_type=1',\n",
       " 'traffic_type=10',\n",
       " 'traffic_type=11',\n",
       " 'traffic_type=12',\n",
       " 'traffic_type=13',\n",
       " 'traffic_type=14',\n",
       " 'traffic_type=15',\n",
       " 'traffic_type=16',\n",
       " 'traffic_type=17',\n",
       " 'traffic_type=18',\n",
       " 'traffic_type=19',\n",
       " 'traffic_type=2',\n",
       " 'traffic_type=20',\n",
       " 'traffic_type=3',\n",
       " 'traffic_type=4',\n",
       " 'traffic_type=5',\n",
       " 'traffic_type=6',\n",
       " 'traffic_type=7',\n",
       " 'traffic_type=8',\n",
       " 'traffic_type=9',\n",
       " 'visitor_type=new_visitor',\n",
       " 'visitor_type=other',\n",
       " 'visitor_type=returning_visitor',\n",
       " 'weekend']"
      ]
     },
     "execution_count": 79,
     "metadata": {},
     "output_type": "execute_result"
    }
   ],
   "source": [
    "dv.feature_names_"
   ]
  },
  {
   "cell_type": "code",
   "execution_count": 22,
   "metadata": {},
   "outputs": [],
   "source": [
    "model_cv = LogisticRegression(solver = 'lbfgs', max_iter = 10_000, \n",
    "                              random_state=1)"
   ]
  },
  {
   "cell_type": "code",
   "execution_count": 23,
   "metadata": {},
   "outputs": [],
   "source": [
    "param_grid = [{\n",
    "    'C': [0.001, 0.01, 0.1, 0.5, 1, 5, 10]}]"
   ]
  },
  {
   "cell_type": "code",
   "execution_count": 24,
   "metadata": {},
   "outputs": [],
   "source": [
    "# Making a Grid Search for selecting model by hyperparameter tuning, using\n",
    "# 2-fold StratifiedKFold cross validation\n",
    "\n",
    "gs = GridSearchCV(estimator=model_cv, param_grid = param_grid,\n",
    "                 cv = 2, scoring = 'roc_auc')"
   ]
  },
  {
   "cell_type": "code",
   "execution_count": 25,
   "metadata": {},
   "outputs": [
    {
     "name": "stdout",
     "output_type": "stream",
     "text": [
      "CV auc_roc: 0.900 +/- 0.006\n"
     ]
    }
   ],
   "source": [
    "#(nested) cross validation ( 5 x 2 cross-val: inner = 5 folds, outer = 2 folds). Outer is in the cell above..\n",
    "scores = cross_val_score(gs, X_full_train, y_full_train, scoring='roc_auc', cv=5, error_score='raise')\n",
    "\n",
    "# mean scores and standard deviation\n",
    "print('CV auc_roc: %.3f +/- %.3f' % (np.mean(scores), np.std(scores)))"
   ]
  },
  {
   "cell_type": "code",
   "execution_count": 58,
   "metadata": {},
   "outputs": [],
   "source": [
    "#second model is RandomForestClassifier()\n",
    "model2_cv = RandomForestClassifier(random_state=1)"
   ]
  },
  {
   "cell_type": "code",
   "execution_count": 64,
   "metadata": {},
   "outputs": [],
   "source": [
    "param_grid = [{\n",
    "    'max_depth': [10, 15, 20],\n",
    "    'n_estimators' : [100, 200, 500],\n",
    "    'min_samples_leaf': [1, 3, 5, 10]}]"
   ]
  },
  {
   "cell_type": "code",
   "execution_count": 65,
   "metadata": {},
   "outputs": [],
   "source": [
    "gs = GridSearchCV(estimator=model2_cv, param_grid = param_grid,\n",
    "                 cv = 2, scoring = 'roc_auc')"
   ]
  },
  {
   "cell_type": "code",
   "execution_count": 66,
   "metadata": {},
   "outputs": [
    {
     "name": "stdout",
     "output_type": "stream",
     "text": [
      "CV auc_roc: 0.927 +/- 0.007\n"
     ]
    }
   ],
   "source": [
    "scores = cross_val_score(gs, X_full_train, y_full_train, scoring='roc_auc', cv=5, error_score='raise')\n",
    "\n",
    "print('CV auc_roc: %.3f +/- %.3f' % (np.mean(scores), np.std(scores)))"
   ]
  },
  {
   "cell_type": "markdown",
   "metadata": {},
   "source": [
    "**Selecting the final model to use in deployment**"
   ]
  },
  {
   "cell_type": "markdown",
   "metadata": {},
   "source": [
    "after having calculated a robust estimate of the generalization errors of the models, we continue with the better one (RandomForestClassifier), to find his optimal hyperparameters values by means of gridSearchCV, then we will define the best model to export to train.py for the deployment part"
   ]
  },
  {
   "cell_type": "code",
   "execution_count": 67,
   "metadata": {},
   "outputs": [
    {
     "data": {
      "text/html": [
       "<style>#sk-container-id-6 {color: black;background-color: white;}#sk-container-id-6 pre{padding: 0;}#sk-container-id-6 div.sk-toggleable {background-color: white;}#sk-container-id-6 label.sk-toggleable__label {cursor: pointer;display: block;width: 100%;margin-bottom: 0;padding: 0.3em;box-sizing: border-box;text-align: center;}#sk-container-id-6 label.sk-toggleable__label-arrow:before {content: \"▸\";float: left;margin-right: 0.25em;color: #696969;}#sk-container-id-6 label.sk-toggleable__label-arrow:hover:before {color: black;}#sk-container-id-6 div.sk-estimator:hover label.sk-toggleable__label-arrow:before {color: black;}#sk-container-id-6 div.sk-toggleable__content {max-height: 0;max-width: 0;overflow: hidden;text-align: left;background-color: #f0f8ff;}#sk-container-id-6 div.sk-toggleable__content pre {margin: 0.2em;color: black;border-radius: 0.25em;background-color: #f0f8ff;}#sk-container-id-6 input.sk-toggleable__control:checked~div.sk-toggleable__content {max-height: 200px;max-width: 100%;overflow: auto;}#sk-container-id-6 input.sk-toggleable__control:checked~label.sk-toggleable__label-arrow:before {content: \"▾\";}#sk-container-id-6 div.sk-estimator input.sk-toggleable__control:checked~label.sk-toggleable__label {background-color: #d4ebff;}#sk-container-id-6 div.sk-label input.sk-toggleable__control:checked~label.sk-toggleable__label {background-color: #d4ebff;}#sk-container-id-6 input.sk-hidden--visually {border: 0;clip: rect(1px 1px 1px 1px);clip: rect(1px, 1px, 1px, 1px);height: 1px;margin: -1px;overflow: hidden;padding: 0;position: absolute;width: 1px;}#sk-container-id-6 div.sk-estimator {font-family: monospace;background-color: #f0f8ff;border: 1px dotted black;border-radius: 0.25em;box-sizing: border-box;margin-bottom: 0.5em;}#sk-container-id-6 div.sk-estimator:hover {background-color: #d4ebff;}#sk-container-id-6 div.sk-parallel-item::after {content: \"\";width: 100%;border-bottom: 1px solid gray;flex-grow: 1;}#sk-container-id-6 div.sk-label:hover label.sk-toggleable__label {background-color: #d4ebff;}#sk-container-id-6 div.sk-serial::before {content: \"\";position: absolute;border-left: 1px solid gray;box-sizing: border-box;top: 0;bottom: 0;left: 50%;z-index: 0;}#sk-container-id-6 div.sk-serial {display: flex;flex-direction: column;align-items: center;background-color: white;padding-right: 0.2em;padding-left: 0.2em;position: relative;}#sk-container-id-6 div.sk-item {position: relative;z-index: 1;}#sk-container-id-6 div.sk-parallel {display: flex;align-items: stretch;justify-content: center;background-color: white;position: relative;}#sk-container-id-6 div.sk-item::before, #sk-container-id-6 div.sk-parallel-item::before {content: \"\";position: absolute;border-left: 1px solid gray;box-sizing: border-box;top: 0;bottom: 0;left: 50%;z-index: -1;}#sk-container-id-6 div.sk-parallel-item {display: flex;flex-direction: column;z-index: 1;position: relative;background-color: white;}#sk-container-id-6 div.sk-parallel-item:first-child::after {align-self: flex-end;width: 50%;}#sk-container-id-6 div.sk-parallel-item:last-child::after {align-self: flex-start;width: 50%;}#sk-container-id-6 div.sk-parallel-item:only-child::after {width: 0;}#sk-container-id-6 div.sk-dashed-wrapped {border: 1px dashed gray;margin: 0 0.4em 0.5em 0.4em;box-sizing: border-box;padding-bottom: 0.4em;background-color: white;}#sk-container-id-6 div.sk-label label {font-family: monospace;font-weight: bold;display: inline-block;line-height: 1.2em;}#sk-container-id-6 div.sk-label-container {text-align: center;}#sk-container-id-6 div.sk-container {/* jupyter's `normalize.less` sets `[hidden] { display: none; }` but bootstrap.min.css set `[hidden] { display: none !important; }` so we also need the `!important` here to be able to override the default hidden behavior on the sphinx rendered scikit-learn.org. See: https://github.com/scikit-learn/scikit-learn/issues/21755 */display: inline-block !important;position: relative;}#sk-container-id-6 div.sk-text-repr-fallback {display: none;}</style><div id=\"sk-container-id-6\" class=\"sk-top-container\"><div class=\"sk-text-repr-fallback\"><pre>GridSearchCV(cv=2, estimator=RandomForestClassifier(random_state=1),\n",
       "             param_grid=[{&#x27;max_depth&#x27;: [10, 15, 20],\n",
       "                          &#x27;min_samples_leaf&#x27;: [1, 3, 5, 10],\n",
       "                          &#x27;n_estimators&#x27;: [100, 200, 500]}],\n",
       "             scoring=&#x27;roc_auc&#x27;)</pre><b>In a Jupyter environment, please rerun this cell to show the HTML representation or trust the notebook. <br />On GitHub, the HTML representation is unable to render, please try loading this page with nbviewer.org.</b></div><div class=\"sk-container\" hidden><div class=\"sk-item sk-dashed-wrapped\"><div class=\"sk-label-container\"><div class=\"sk-label sk-toggleable\"><input class=\"sk-toggleable__control sk-hidden--visually\" id=\"sk-estimator-id-14\" type=\"checkbox\" ><label for=\"sk-estimator-id-14\" class=\"sk-toggleable__label sk-toggleable__label-arrow\">GridSearchCV</label><div class=\"sk-toggleable__content\"><pre>GridSearchCV(cv=2, estimator=RandomForestClassifier(random_state=1),\n",
       "             param_grid=[{&#x27;max_depth&#x27;: [10, 15, 20],\n",
       "                          &#x27;min_samples_leaf&#x27;: [1, 3, 5, 10],\n",
       "                          &#x27;n_estimators&#x27;: [100, 200, 500]}],\n",
       "             scoring=&#x27;roc_auc&#x27;)</pre></div></div></div><div class=\"sk-parallel\"><div class=\"sk-parallel-item\"><div class=\"sk-item\"><div class=\"sk-label-container\"><div class=\"sk-label sk-toggleable\"><input class=\"sk-toggleable__control sk-hidden--visually\" id=\"sk-estimator-id-15\" type=\"checkbox\" ><label for=\"sk-estimator-id-15\" class=\"sk-toggleable__label sk-toggleable__label-arrow\">estimator: RandomForestClassifier</label><div class=\"sk-toggleable__content\"><pre>RandomForestClassifier(random_state=1)</pre></div></div></div><div class=\"sk-serial\"><div class=\"sk-item\"><div class=\"sk-estimator sk-toggleable\"><input class=\"sk-toggleable__control sk-hidden--visually\" id=\"sk-estimator-id-16\" type=\"checkbox\" ><label for=\"sk-estimator-id-16\" class=\"sk-toggleable__label sk-toggleable__label-arrow\">RandomForestClassifier</label><div class=\"sk-toggleable__content\"><pre>RandomForestClassifier(random_state=1)</pre></div></div></div></div></div></div></div></div></div></div>"
      ],
      "text/plain": [
       "GridSearchCV(cv=2, estimator=RandomForestClassifier(random_state=1),\n",
       "             param_grid=[{'max_depth': [10, 15, 20],\n",
       "                          'min_samples_leaf': [1, 3, 5, 10],\n",
       "                          'n_estimators': [100, 200, 500]}],\n",
       "             scoring='roc_auc')"
      ]
     },
     "execution_count": 67,
     "metadata": {},
     "output_type": "execute_result"
    }
   ],
   "source": [
    "gs.fit(X_full_train, y_full_train)"
   ]
  },
  {
   "cell_type": "code",
   "execution_count": 68,
   "metadata": {},
   "outputs": [
    {
     "data": {
      "text/plain": [
       "{'max_depth': 20, 'min_samples_leaf': 3, 'n_estimators': 500}"
      ]
     },
     "execution_count": 68,
     "metadata": {},
     "output_type": "execute_result"
    }
   ],
   "source": [
    "gs.best_params_"
   ]
  },
  {
   "cell_type": "code",
   "execution_count": 69,
   "metadata": {},
   "outputs": [],
   "source": [
    "final_model = RandomForestClassifier(max_depth = 15, n_estimators = 500,\n",
    "                                    min_samples_leaf = 3, random_state = 1)"
   ]
  },
  {
   "cell_type": "code",
   "execution_count": 80,
   "metadata": {},
   "outputs": [
    {
     "data": {
      "text/html": [
       "<style>#sk-container-id-8 {color: black;background-color: white;}#sk-container-id-8 pre{padding: 0;}#sk-container-id-8 div.sk-toggleable {background-color: white;}#sk-container-id-8 label.sk-toggleable__label {cursor: pointer;display: block;width: 100%;margin-bottom: 0;padding: 0.3em;box-sizing: border-box;text-align: center;}#sk-container-id-8 label.sk-toggleable__label-arrow:before {content: \"▸\";float: left;margin-right: 0.25em;color: #696969;}#sk-container-id-8 label.sk-toggleable__label-arrow:hover:before {color: black;}#sk-container-id-8 div.sk-estimator:hover label.sk-toggleable__label-arrow:before {color: black;}#sk-container-id-8 div.sk-toggleable__content {max-height: 0;max-width: 0;overflow: hidden;text-align: left;background-color: #f0f8ff;}#sk-container-id-8 div.sk-toggleable__content pre {margin: 0.2em;color: black;border-radius: 0.25em;background-color: #f0f8ff;}#sk-container-id-8 input.sk-toggleable__control:checked~div.sk-toggleable__content {max-height: 200px;max-width: 100%;overflow: auto;}#sk-container-id-8 input.sk-toggleable__control:checked~label.sk-toggleable__label-arrow:before {content: \"▾\";}#sk-container-id-8 div.sk-estimator input.sk-toggleable__control:checked~label.sk-toggleable__label {background-color: #d4ebff;}#sk-container-id-8 div.sk-label input.sk-toggleable__control:checked~label.sk-toggleable__label {background-color: #d4ebff;}#sk-container-id-8 input.sk-hidden--visually {border: 0;clip: rect(1px 1px 1px 1px);clip: rect(1px, 1px, 1px, 1px);height: 1px;margin: -1px;overflow: hidden;padding: 0;position: absolute;width: 1px;}#sk-container-id-8 div.sk-estimator {font-family: monospace;background-color: #f0f8ff;border: 1px dotted black;border-radius: 0.25em;box-sizing: border-box;margin-bottom: 0.5em;}#sk-container-id-8 div.sk-estimator:hover {background-color: #d4ebff;}#sk-container-id-8 div.sk-parallel-item::after {content: \"\";width: 100%;border-bottom: 1px solid gray;flex-grow: 1;}#sk-container-id-8 div.sk-label:hover label.sk-toggleable__label {background-color: #d4ebff;}#sk-container-id-8 div.sk-serial::before {content: \"\";position: absolute;border-left: 1px solid gray;box-sizing: border-box;top: 0;bottom: 0;left: 50%;z-index: 0;}#sk-container-id-8 div.sk-serial {display: flex;flex-direction: column;align-items: center;background-color: white;padding-right: 0.2em;padding-left: 0.2em;position: relative;}#sk-container-id-8 div.sk-item {position: relative;z-index: 1;}#sk-container-id-8 div.sk-parallel {display: flex;align-items: stretch;justify-content: center;background-color: white;position: relative;}#sk-container-id-8 div.sk-item::before, #sk-container-id-8 div.sk-parallel-item::before {content: \"\";position: absolute;border-left: 1px solid gray;box-sizing: border-box;top: 0;bottom: 0;left: 50%;z-index: -1;}#sk-container-id-8 div.sk-parallel-item {display: flex;flex-direction: column;z-index: 1;position: relative;background-color: white;}#sk-container-id-8 div.sk-parallel-item:first-child::after {align-self: flex-end;width: 50%;}#sk-container-id-8 div.sk-parallel-item:last-child::after {align-self: flex-start;width: 50%;}#sk-container-id-8 div.sk-parallel-item:only-child::after {width: 0;}#sk-container-id-8 div.sk-dashed-wrapped {border: 1px dashed gray;margin: 0 0.4em 0.5em 0.4em;box-sizing: border-box;padding-bottom: 0.4em;background-color: white;}#sk-container-id-8 div.sk-label label {font-family: monospace;font-weight: bold;display: inline-block;line-height: 1.2em;}#sk-container-id-8 div.sk-label-container {text-align: center;}#sk-container-id-8 div.sk-container {/* jupyter's `normalize.less` sets `[hidden] { display: none; }` but bootstrap.min.css set `[hidden] { display: none !important; }` so we also need the `!important` here to be able to override the default hidden behavior on the sphinx rendered scikit-learn.org. See: https://github.com/scikit-learn/scikit-learn/issues/21755 */display: inline-block !important;position: relative;}#sk-container-id-8 div.sk-text-repr-fallback {display: none;}</style><div id=\"sk-container-id-8\" class=\"sk-top-container\"><div class=\"sk-text-repr-fallback\"><pre>RandomForestClassifier(max_depth=15, min_samples_leaf=3, n_estimators=500,\n",
       "                       random_state=1)</pre><b>In a Jupyter environment, please rerun this cell to show the HTML representation or trust the notebook. <br />On GitHub, the HTML representation is unable to render, please try loading this page with nbviewer.org.</b></div><div class=\"sk-container\" hidden><div class=\"sk-item\"><div class=\"sk-estimator sk-toggleable\"><input class=\"sk-toggleable__control sk-hidden--visually\" id=\"sk-estimator-id-18\" type=\"checkbox\" checked><label for=\"sk-estimator-id-18\" class=\"sk-toggleable__label sk-toggleable__label-arrow\">RandomForestClassifier</label><div class=\"sk-toggleable__content\"><pre>RandomForestClassifier(max_depth=15, min_samples_leaf=3, n_estimators=500,\n",
       "                       random_state=1)</pre></div></div></div></div></div>"
      ],
      "text/plain": [
       "RandomForestClassifier(max_depth=15, min_samples_leaf=3, n_estimators=500,\n",
       "                       random_state=1)"
      ]
     },
     "execution_count": 80,
     "metadata": {},
     "output_type": "execute_result"
    }
   ],
   "source": [
    "final_model.fit(X_train, y_train)"
   ]
  },
  {
   "cell_type": "code",
   "execution_count": 81,
   "metadata": {},
   "outputs": [],
   "source": [
    "test_val = df_val[numeric_features + categorical_features + boolean_features].to_dict(orient='records')\n",
    "X_test = dv.transform(val_dict)"
   ]
  },
  {
   "cell_type": "code",
   "execution_count": 83,
   "metadata": {},
   "outputs": [],
   "source": [
    "y_pred = final_model.predict_proba(X_val)[:,1]"
   ]
  },
  {
   "cell_type": "code",
   "execution_count": 84,
   "metadata": {},
   "outputs": [],
   "source": [
    "realized_revenue = (y_pred >= 0.5)"
   ]
  },
  {
   "cell_type": "code",
   "execution_count": 85,
   "metadata": {},
   "outputs": [
    {
     "data": {
      "text/plain": [
       "0.8998377939983779"
      ]
     },
     "execution_count": 85,
     "metadata": {},
     "output_type": "execute_result"
    }
   ],
   "source": [
    "#accuracy of the RandomForestClassifier() model\n",
    "(y_val == realized_revenue).mean()"
   ]
  },
  {
   "cell_type": "code",
   "execution_count": 88,
   "metadata": {},
   "outputs": [],
   "source": [
    "fpr3, tpr3, thresholds3 = roc_curve(y_val, y_pred)"
   ]
  },
  {
   "cell_type": "code",
   "execution_count": 89,
   "metadata": {},
   "outputs": [
    {
     "data": {
      "text/plain": [
       "0.9368805889037103"
      ]
     },
     "execution_count": 89,
     "metadata": {},
     "output_type": "execute_result"
    }
   ],
   "source": [
    "#AUC metric\n",
    "auc(fpr3, tpr3)"
   ]
  },
  {
   "cell_type": "code",
   "execution_count": 96,
   "metadata": {},
   "outputs": [
    {
     "data": {
      "application/javascript": [
       "/* Put everything inside the global mpl namespace */\n",
       "/* global mpl */\n",
       "window.mpl = {};\n",
       "\n",
       "mpl.get_websocket_type = function () {\n",
       "    if (typeof WebSocket !== 'undefined') {\n",
       "        return WebSocket;\n",
       "    } else if (typeof MozWebSocket !== 'undefined') {\n",
       "        return MozWebSocket;\n",
       "    } else {\n",
       "        alert(\n",
       "            'Your browser does not have WebSocket support. ' +\n",
       "                'Please try Chrome, Safari or Firefox ≥ 6. ' +\n",
       "                'Firefox 4 and 5 are also supported but you ' +\n",
       "                'have to enable WebSockets in about:config.'\n",
       "        );\n",
       "    }\n",
       "};\n",
       "\n",
       "mpl.figure = function (figure_id, websocket, ondownload, parent_element) {\n",
       "    this.id = figure_id;\n",
       "\n",
       "    this.ws = websocket;\n",
       "\n",
       "    this.supports_binary = this.ws.binaryType !== undefined;\n",
       "\n",
       "    if (!this.supports_binary) {\n",
       "        var warnings = document.getElementById('mpl-warnings');\n",
       "        if (warnings) {\n",
       "            warnings.style.display = 'block';\n",
       "            warnings.textContent =\n",
       "                'This browser does not support binary websocket messages. ' +\n",
       "                'Performance may be slow.';\n",
       "        }\n",
       "    }\n",
       "\n",
       "    this.imageObj = new Image();\n",
       "\n",
       "    this.context = undefined;\n",
       "    this.message = undefined;\n",
       "    this.canvas = undefined;\n",
       "    this.rubberband_canvas = undefined;\n",
       "    this.rubberband_context = undefined;\n",
       "    this.format_dropdown = undefined;\n",
       "\n",
       "    this.image_mode = 'full';\n",
       "\n",
       "    this.root = document.createElement('div');\n",
       "    this.root.setAttribute('style', 'display: inline-block');\n",
       "    this._root_extra_style(this.root);\n",
       "\n",
       "    parent_element.appendChild(this.root);\n",
       "\n",
       "    this._init_header(this);\n",
       "    this._init_canvas(this);\n",
       "    this._init_toolbar(this);\n",
       "\n",
       "    var fig = this;\n",
       "\n",
       "    this.waiting = false;\n",
       "\n",
       "    this.ws.onopen = function () {\n",
       "        fig.send_message('supports_binary', { value: fig.supports_binary });\n",
       "        fig.send_message('send_image_mode', {});\n",
       "        if (fig.ratio !== 1) {\n",
       "            fig.send_message('set_device_pixel_ratio', {\n",
       "                device_pixel_ratio: fig.ratio,\n",
       "            });\n",
       "        }\n",
       "        fig.send_message('refresh', {});\n",
       "    };\n",
       "\n",
       "    this.imageObj.onload = function () {\n",
       "        if (fig.image_mode === 'full') {\n",
       "            // Full images could contain transparency (where diff images\n",
       "            // almost always do), so we need to clear the canvas so that\n",
       "            // there is no ghosting.\n",
       "            fig.context.clearRect(0, 0, fig.canvas.width, fig.canvas.height);\n",
       "        }\n",
       "        fig.context.drawImage(fig.imageObj, 0, 0);\n",
       "    };\n",
       "\n",
       "    this.imageObj.onunload = function () {\n",
       "        fig.ws.close();\n",
       "    };\n",
       "\n",
       "    this.ws.onmessage = this._make_on_message_function(this);\n",
       "\n",
       "    this.ondownload = ondownload;\n",
       "};\n",
       "\n",
       "mpl.figure.prototype._init_header = function () {\n",
       "    var titlebar = document.createElement('div');\n",
       "    titlebar.classList =\n",
       "        'ui-dialog-titlebar ui-widget-header ui-corner-all ui-helper-clearfix';\n",
       "    var titletext = document.createElement('div');\n",
       "    titletext.classList = 'ui-dialog-title';\n",
       "    titletext.setAttribute(\n",
       "        'style',\n",
       "        'width: 100%; text-align: center; padding: 3px;'\n",
       "    );\n",
       "    titlebar.appendChild(titletext);\n",
       "    this.root.appendChild(titlebar);\n",
       "    this.header = titletext;\n",
       "};\n",
       "\n",
       "mpl.figure.prototype._canvas_extra_style = function (_canvas_div) {};\n",
       "\n",
       "mpl.figure.prototype._root_extra_style = function (_canvas_div) {};\n",
       "\n",
       "mpl.figure.prototype._init_canvas = function () {\n",
       "    var fig = this;\n",
       "\n",
       "    var canvas_div = (this.canvas_div = document.createElement('div'));\n",
       "    canvas_div.setAttribute(\n",
       "        'style',\n",
       "        'border: 1px solid #ddd;' +\n",
       "            'box-sizing: content-box;' +\n",
       "            'clear: both;' +\n",
       "            'min-height: 1px;' +\n",
       "            'min-width: 1px;' +\n",
       "            'outline: 0;' +\n",
       "            'overflow: hidden;' +\n",
       "            'position: relative;' +\n",
       "            'resize: both;'\n",
       "    );\n",
       "\n",
       "    function on_keyboard_event_closure(name) {\n",
       "        return function (event) {\n",
       "            return fig.key_event(event, name);\n",
       "        };\n",
       "    }\n",
       "\n",
       "    canvas_div.addEventListener(\n",
       "        'keydown',\n",
       "        on_keyboard_event_closure('key_press')\n",
       "    );\n",
       "    canvas_div.addEventListener(\n",
       "        'keyup',\n",
       "        on_keyboard_event_closure('key_release')\n",
       "    );\n",
       "\n",
       "    this._canvas_extra_style(canvas_div);\n",
       "    this.root.appendChild(canvas_div);\n",
       "\n",
       "    var canvas = (this.canvas = document.createElement('canvas'));\n",
       "    canvas.classList.add('mpl-canvas');\n",
       "    canvas.setAttribute('style', 'box-sizing: content-box;');\n",
       "\n",
       "    this.context = canvas.getContext('2d');\n",
       "\n",
       "    var backingStore =\n",
       "        this.context.backingStorePixelRatio ||\n",
       "        this.context.webkitBackingStorePixelRatio ||\n",
       "        this.context.mozBackingStorePixelRatio ||\n",
       "        this.context.msBackingStorePixelRatio ||\n",
       "        this.context.oBackingStorePixelRatio ||\n",
       "        this.context.backingStorePixelRatio ||\n",
       "        1;\n",
       "\n",
       "    this.ratio = (window.devicePixelRatio || 1) / backingStore;\n",
       "\n",
       "    var rubberband_canvas = (this.rubberband_canvas = document.createElement(\n",
       "        'canvas'\n",
       "    ));\n",
       "    rubberband_canvas.setAttribute(\n",
       "        'style',\n",
       "        'box-sizing: content-box; position: absolute; left: 0; top: 0; z-index: 1;'\n",
       "    );\n",
       "\n",
       "    // Apply a ponyfill if ResizeObserver is not implemented by browser.\n",
       "    if (this.ResizeObserver === undefined) {\n",
       "        if (window.ResizeObserver !== undefined) {\n",
       "            this.ResizeObserver = window.ResizeObserver;\n",
       "        } else {\n",
       "            var obs = _JSXTOOLS_RESIZE_OBSERVER({});\n",
       "            this.ResizeObserver = obs.ResizeObserver;\n",
       "        }\n",
       "    }\n",
       "\n",
       "    this.resizeObserverInstance = new this.ResizeObserver(function (entries) {\n",
       "        var nentries = entries.length;\n",
       "        for (var i = 0; i < nentries; i++) {\n",
       "            var entry = entries[i];\n",
       "            var width, height;\n",
       "            if (entry.contentBoxSize) {\n",
       "                if (entry.contentBoxSize instanceof Array) {\n",
       "                    // Chrome 84 implements new version of spec.\n",
       "                    width = entry.contentBoxSize[0].inlineSize;\n",
       "                    height = entry.contentBoxSize[0].blockSize;\n",
       "                } else {\n",
       "                    // Firefox implements old version of spec.\n",
       "                    width = entry.contentBoxSize.inlineSize;\n",
       "                    height = entry.contentBoxSize.blockSize;\n",
       "                }\n",
       "            } else {\n",
       "                // Chrome <84 implements even older version of spec.\n",
       "                width = entry.contentRect.width;\n",
       "                height = entry.contentRect.height;\n",
       "            }\n",
       "\n",
       "            // Keep the size of the canvas and rubber band canvas in sync with\n",
       "            // the canvas container.\n",
       "            if (entry.devicePixelContentBoxSize) {\n",
       "                // Chrome 84 implements new version of spec.\n",
       "                canvas.setAttribute(\n",
       "                    'width',\n",
       "                    entry.devicePixelContentBoxSize[0].inlineSize\n",
       "                );\n",
       "                canvas.setAttribute(\n",
       "                    'height',\n",
       "                    entry.devicePixelContentBoxSize[0].blockSize\n",
       "                );\n",
       "            } else {\n",
       "                canvas.setAttribute('width', width * fig.ratio);\n",
       "                canvas.setAttribute('height', height * fig.ratio);\n",
       "            }\n",
       "            canvas.setAttribute(\n",
       "                'style',\n",
       "                'width: ' + width + 'px; height: ' + height + 'px;'\n",
       "            );\n",
       "\n",
       "            rubberband_canvas.setAttribute('width', width);\n",
       "            rubberband_canvas.setAttribute('height', height);\n",
       "\n",
       "            // And update the size in Python. We ignore the initial 0/0 size\n",
       "            // that occurs as the element is placed into the DOM, which should\n",
       "            // otherwise not happen due to the minimum size styling.\n",
       "            if (fig.ws.readyState == 1 && width != 0 && height != 0) {\n",
       "                fig.request_resize(width, height);\n",
       "            }\n",
       "        }\n",
       "    });\n",
       "    this.resizeObserverInstance.observe(canvas_div);\n",
       "\n",
       "    function on_mouse_event_closure(name) {\n",
       "        return function (event) {\n",
       "            return fig.mouse_event(event, name);\n",
       "        };\n",
       "    }\n",
       "\n",
       "    rubberband_canvas.addEventListener(\n",
       "        'mousedown',\n",
       "        on_mouse_event_closure('button_press')\n",
       "    );\n",
       "    rubberband_canvas.addEventListener(\n",
       "        'mouseup',\n",
       "        on_mouse_event_closure('button_release')\n",
       "    );\n",
       "    rubberband_canvas.addEventListener(\n",
       "        'dblclick',\n",
       "        on_mouse_event_closure('dblclick')\n",
       "    );\n",
       "    // Throttle sequential mouse events to 1 every 20ms.\n",
       "    rubberband_canvas.addEventListener(\n",
       "        'mousemove',\n",
       "        on_mouse_event_closure('motion_notify')\n",
       "    );\n",
       "\n",
       "    rubberband_canvas.addEventListener(\n",
       "        'mouseenter',\n",
       "        on_mouse_event_closure('figure_enter')\n",
       "    );\n",
       "    rubberband_canvas.addEventListener(\n",
       "        'mouseleave',\n",
       "        on_mouse_event_closure('figure_leave')\n",
       "    );\n",
       "\n",
       "    canvas_div.addEventListener('wheel', function (event) {\n",
       "        if (event.deltaY < 0) {\n",
       "            event.step = 1;\n",
       "        } else {\n",
       "            event.step = -1;\n",
       "        }\n",
       "        on_mouse_event_closure('scroll')(event);\n",
       "    });\n",
       "\n",
       "    canvas_div.appendChild(canvas);\n",
       "    canvas_div.appendChild(rubberband_canvas);\n",
       "\n",
       "    this.rubberband_context = rubberband_canvas.getContext('2d');\n",
       "    this.rubberband_context.strokeStyle = '#000000';\n",
       "\n",
       "    this._resize_canvas = function (width, height, forward) {\n",
       "        if (forward) {\n",
       "            canvas_div.style.width = width + 'px';\n",
       "            canvas_div.style.height = height + 'px';\n",
       "        }\n",
       "    };\n",
       "\n",
       "    // Disable right mouse context menu.\n",
       "    this.rubberband_canvas.addEventListener('contextmenu', function (_e) {\n",
       "        event.preventDefault();\n",
       "        return false;\n",
       "    });\n",
       "\n",
       "    function set_focus() {\n",
       "        canvas.focus();\n",
       "        canvas_div.focus();\n",
       "    }\n",
       "\n",
       "    window.setTimeout(set_focus, 100);\n",
       "};\n",
       "\n",
       "mpl.figure.prototype._init_toolbar = function () {\n",
       "    var fig = this;\n",
       "\n",
       "    var toolbar = document.createElement('div');\n",
       "    toolbar.classList = 'mpl-toolbar';\n",
       "    this.root.appendChild(toolbar);\n",
       "\n",
       "    function on_click_closure(name) {\n",
       "        return function (_event) {\n",
       "            return fig.toolbar_button_onclick(name);\n",
       "        };\n",
       "    }\n",
       "\n",
       "    function on_mouseover_closure(tooltip) {\n",
       "        return function (event) {\n",
       "            if (!event.currentTarget.disabled) {\n",
       "                return fig.toolbar_button_onmouseover(tooltip);\n",
       "            }\n",
       "        };\n",
       "    }\n",
       "\n",
       "    fig.buttons = {};\n",
       "    var buttonGroup = document.createElement('div');\n",
       "    buttonGroup.classList = 'mpl-button-group';\n",
       "    for (var toolbar_ind in mpl.toolbar_items) {\n",
       "        var name = mpl.toolbar_items[toolbar_ind][0];\n",
       "        var tooltip = mpl.toolbar_items[toolbar_ind][1];\n",
       "        var image = mpl.toolbar_items[toolbar_ind][2];\n",
       "        var method_name = mpl.toolbar_items[toolbar_ind][3];\n",
       "\n",
       "        if (!name) {\n",
       "            /* Instead of a spacer, we start a new button group. */\n",
       "            if (buttonGroup.hasChildNodes()) {\n",
       "                toolbar.appendChild(buttonGroup);\n",
       "            }\n",
       "            buttonGroup = document.createElement('div');\n",
       "            buttonGroup.classList = 'mpl-button-group';\n",
       "            continue;\n",
       "        }\n",
       "\n",
       "        var button = (fig.buttons[name] = document.createElement('button'));\n",
       "        button.classList = 'mpl-widget';\n",
       "        button.setAttribute('role', 'button');\n",
       "        button.setAttribute('aria-disabled', 'false');\n",
       "        button.addEventListener('click', on_click_closure(method_name));\n",
       "        button.addEventListener('mouseover', on_mouseover_closure(tooltip));\n",
       "\n",
       "        var icon_img = document.createElement('img');\n",
       "        icon_img.src = '_images/' + image + '.png';\n",
       "        icon_img.srcset = '_images/' + image + '_large.png 2x';\n",
       "        icon_img.alt = tooltip;\n",
       "        button.appendChild(icon_img);\n",
       "\n",
       "        buttonGroup.appendChild(button);\n",
       "    }\n",
       "\n",
       "    if (buttonGroup.hasChildNodes()) {\n",
       "        toolbar.appendChild(buttonGroup);\n",
       "    }\n",
       "\n",
       "    var fmt_picker = document.createElement('select');\n",
       "    fmt_picker.classList = 'mpl-widget';\n",
       "    toolbar.appendChild(fmt_picker);\n",
       "    this.format_dropdown = fmt_picker;\n",
       "\n",
       "    for (var ind in mpl.extensions) {\n",
       "        var fmt = mpl.extensions[ind];\n",
       "        var option = document.createElement('option');\n",
       "        option.selected = fmt === mpl.default_extension;\n",
       "        option.innerHTML = fmt;\n",
       "        fmt_picker.appendChild(option);\n",
       "    }\n",
       "\n",
       "    var status_bar = document.createElement('span');\n",
       "    status_bar.classList = 'mpl-message';\n",
       "    toolbar.appendChild(status_bar);\n",
       "    this.message = status_bar;\n",
       "};\n",
       "\n",
       "mpl.figure.prototype.request_resize = function (x_pixels, y_pixels) {\n",
       "    // Request matplotlib to resize the figure. Matplotlib will then trigger a resize in the client,\n",
       "    // which will in turn request a refresh of the image.\n",
       "    this.send_message('resize', { width: x_pixels, height: y_pixels });\n",
       "};\n",
       "\n",
       "mpl.figure.prototype.send_message = function (type, properties) {\n",
       "    properties['type'] = type;\n",
       "    properties['figure_id'] = this.id;\n",
       "    this.ws.send(JSON.stringify(properties));\n",
       "};\n",
       "\n",
       "mpl.figure.prototype.send_draw_message = function () {\n",
       "    if (!this.waiting) {\n",
       "        this.waiting = true;\n",
       "        this.ws.send(JSON.stringify({ type: 'draw', figure_id: this.id }));\n",
       "    }\n",
       "};\n",
       "\n",
       "mpl.figure.prototype.handle_save = function (fig, _msg) {\n",
       "    var format_dropdown = fig.format_dropdown;\n",
       "    var format = format_dropdown.options[format_dropdown.selectedIndex].value;\n",
       "    fig.ondownload(fig, format);\n",
       "};\n",
       "\n",
       "mpl.figure.prototype.handle_resize = function (fig, msg) {\n",
       "    var size = msg['size'];\n",
       "    if (size[0] !== fig.canvas.width || size[1] !== fig.canvas.height) {\n",
       "        fig._resize_canvas(size[0], size[1], msg['forward']);\n",
       "        fig.send_message('refresh', {});\n",
       "    }\n",
       "};\n",
       "\n",
       "mpl.figure.prototype.handle_rubberband = function (fig, msg) {\n",
       "    var x0 = msg['x0'] / fig.ratio;\n",
       "    var y0 = (fig.canvas.height - msg['y0']) / fig.ratio;\n",
       "    var x1 = msg['x1'] / fig.ratio;\n",
       "    var y1 = (fig.canvas.height - msg['y1']) / fig.ratio;\n",
       "    x0 = Math.floor(x0) + 0.5;\n",
       "    y0 = Math.floor(y0) + 0.5;\n",
       "    x1 = Math.floor(x1) + 0.5;\n",
       "    y1 = Math.floor(y1) + 0.5;\n",
       "    var min_x = Math.min(x0, x1);\n",
       "    var min_y = Math.min(y0, y1);\n",
       "    var width = Math.abs(x1 - x0);\n",
       "    var height = Math.abs(y1 - y0);\n",
       "\n",
       "    fig.rubberband_context.clearRect(\n",
       "        0,\n",
       "        0,\n",
       "        fig.canvas.width / fig.ratio,\n",
       "        fig.canvas.height / fig.ratio\n",
       "    );\n",
       "\n",
       "    fig.rubberband_context.strokeRect(min_x, min_y, width, height);\n",
       "};\n",
       "\n",
       "mpl.figure.prototype.handle_figure_label = function (fig, msg) {\n",
       "    // Updates the figure title.\n",
       "    fig.header.textContent = msg['label'];\n",
       "};\n",
       "\n",
       "mpl.figure.prototype.handle_cursor = function (fig, msg) {\n",
       "    fig.rubberband_canvas.style.cursor = msg['cursor'];\n",
       "};\n",
       "\n",
       "mpl.figure.prototype.handle_message = function (fig, msg) {\n",
       "    fig.message.textContent = msg['message'];\n",
       "};\n",
       "\n",
       "mpl.figure.prototype.handle_draw = function (fig, _msg) {\n",
       "    // Request the server to send over a new figure.\n",
       "    fig.send_draw_message();\n",
       "};\n",
       "\n",
       "mpl.figure.prototype.handle_image_mode = function (fig, msg) {\n",
       "    fig.image_mode = msg['mode'];\n",
       "};\n",
       "\n",
       "mpl.figure.prototype.handle_history_buttons = function (fig, msg) {\n",
       "    for (var key in msg) {\n",
       "        if (!(key in fig.buttons)) {\n",
       "            continue;\n",
       "        }\n",
       "        fig.buttons[key].disabled = !msg[key];\n",
       "        fig.buttons[key].setAttribute('aria-disabled', !msg[key]);\n",
       "    }\n",
       "};\n",
       "\n",
       "mpl.figure.prototype.handle_navigate_mode = function (fig, msg) {\n",
       "    if (msg['mode'] === 'PAN') {\n",
       "        fig.buttons['Pan'].classList.add('active');\n",
       "        fig.buttons['Zoom'].classList.remove('active');\n",
       "    } else if (msg['mode'] === 'ZOOM') {\n",
       "        fig.buttons['Pan'].classList.remove('active');\n",
       "        fig.buttons['Zoom'].classList.add('active');\n",
       "    } else {\n",
       "        fig.buttons['Pan'].classList.remove('active');\n",
       "        fig.buttons['Zoom'].classList.remove('active');\n",
       "    }\n",
       "};\n",
       "\n",
       "mpl.figure.prototype.updated_canvas_event = function () {\n",
       "    // Called whenever the canvas gets updated.\n",
       "    this.send_message('ack', {});\n",
       "};\n",
       "\n",
       "// A function to construct a web socket function for onmessage handling.\n",
       "// Called in the figure constructor.\n",
       "mpl.figure.prototype._make_on_message_function = function (fig) {\n",
       "    return function socket_on_message(evt) {\n",
       "        if (evt.data instanceof Blob) {\n",
       "            var img = evt.data;\n",
       "            if (img.type !== 'image/png') {\n",
       "                /* FIXME: We get \"Resource interpreted as Image but\n",
       "                 * transferred with MIME type text/plain:\" errors on\n",
       "                 * Chrome.  But how to set the MIME type?  It doesn't seem\n",
       "                 * to be part of the websocket stream */\n",
       "                img.type = 'image/png';\n",
       "            }\n",
       "\n",
       "            /* Free the memory for the previous frames */\n",
       "            if (fig.imageObj.src) {\n",
       "                (window.URL || window.webkitURL).revokeObjectURL(\n",
       "                    fig.imageObj.src\n",
       "                );\n",
       "            }\n",
       "\n",
       "            fig.imageObj.src = (window.URL || window.webkitURL).createObjectURL(\n",
       "                img\n",
       "            );\n",
       "            fig.updated_canvas_event();\n",
       "            fig.waiting = false;\n",
       "            return;\n",
       "        } else if (\n",
       "            typeof evt.data === 'string' &&\n",
       "            evt.data.slice(0, 21) === 'data:image/png;base64'\n",
       "        ) {\n",
       "            fig.imageObj.src = evt.data;\n",
       "            fig.updated_canvas_event();\n",
       "            fig.waiting = false;\n",
       "            return;\n",
       "        }\n",
       "\n",
       "        var msg = JSON.parse(evt.data);\n",
       "        var msg_type = msg['type'];\n",
       "\n",
       "        // Call the  \"handle_{type}\" callback, which takes\n",
       "        // the figure and JSON message as its only arguments.\n",
       "        try {\n",
       "            var callback = fig['handle_' + msg_type];\n",
       "        } catch (e) {\n",
       "            console.log(\n",
       "                \"No handler for the '\" + msg_type + \"' message type: \",\n",
       "                msg\n",
       "            );\n",
       "            return;\n",
       "        }\n",
       "\n",
       "        if (callback) {\n",
       "            try {\n",
       "                // console.log(\"Handling '\" + msg_type + \"' message: \", msg);\n",
       "                callback(fig, msg);\n",
       "            } catch (e) {\n",
       "                console.log(\n",
       "                    \"Exception inside the 'handler_\" + msg_type + \"' callback:\",\n",
       "                    e,\n",
       "                    e.stack,\n",
       "                    msg\n",
       "                );\n",
       "            }\n",
       "        }\n",
       "    };\n",
       "};\n",
       "\n",
       "// from https://stackoverflow.com/questions/1114465/getting-mouse-location-in-canvas\n",
       "mpl.findpos = function (e) {\n",
       "    //this section is from http://www.quirksmode.org/js/events_properties.html\n",
       "    var targ;\n",
       "    if (!e) {\n",
       "        e = window.event;\n",
       "    }\n",
       "    if (e.target) {\n",
       "        targ = e.target;\n",
       "    } else if (e.srcElement) {\n",
       "        targ = e.srcElement;\n",
       "    }\n",
       "    if (targ.nodeType === 3) {\n",
       "        // defeat Safari bug\n",
       "        targ = targ.parentNode;\n",
       "    }\n",
       "\n",
       "    // pageX,Y are the mouse positions relative to the document\n",
       "    var boundingRect = targ.getBoundingClientRect();\n",
       "    var x = e.pageX - (boundingRect.left + document.body.scrollLeft);\n",
       "    var y = e.pageY - (boundingRect.top + document.body.scrollTop);\n",
       "\n",
       "    return { x: x, y: y };\n",
       "};\n",
       "\n",
       "/*\n",
       " * return a copy of an object with only non-object keys\n",
       " * we need this to avoid circular references\n",
       " * https://stackoverflow.com/a/24161582/3208463\n",
       " */\n",
       "function simpleKeys(original) {\n",
       "    return Object.keys(original).reduce(function (obj, key) {\n",
       "        if (typeof original[key] !== 'object') {\n",
       "            obj[key] = original[key];\n",
       "        }\n",
       "        return obj;\n",
       "    }, {});\n",
       "}\n",
       "\n",
       "mpl.figure.prototype.mouse_event = function (event, name) {\n",
       "    var canvas_pos = mpl.findpos(event);\n",
       "\n",
       "    if (name === 'button_press') {\n",
       "        this.canvas.focus();\n",
       "        this.canvas_div.focus();\n",
       "    }\n",
       "\n",
       "    var x = canvas_pos.x * this.ratio;\n",
       "    var y = canvas_pos.y * this.ratio;\n",
       "\n",
       "    this.send_message(name, {\n",
       "        x: x,\n",
       "        y: y,\n",
       "        button: event.button,\n",
       "        step: event.step,\n",
       "        guiEvent: simpleKeys(event),\n",
       "    });\n",
       "\n",
       "    /* This prevents the web browser from automatically changing to\n",
       "     * the text insertion cursor when the button is pressed.  We want\n",
       "     * to control all of the cursor setting manually through the\n",
       "     * 'cursor' event from matplotlib */\n",
       "    event.preventDefault();\n",
       "    return false;\n",
       "};\n",
       "\n",
       "mpl.figure.prototype._key_event_extra = function (_event, _name) {\n",
       "    // Handle any extra behaviour associated with a key event\n",
       "};\n",
       "\n",
       "mpl.figure.prototype.key_event = function (event, name) {\n",
       "    // Prevent repeat events\n",
       "    if (name === 'key_press') {\n",
       "        if (event.key === this._key) {\n",
       "            return;\n",
       "        } else {\n",
       "            this._key = event.key;\n",
       "        }\n",
       "    }\n",
       "    if (name === 'key_release') {\n",
       "        this._key = null;\n",
       "    }\n",
       "\n",
       "    var value = '';\n",
       "    if (event.ctrlKey && event.key !== 'Control') {\n",
       "        value += 'ctrl+';\n",
       "    }\n",
       "    else if (event.altKey && event.key !== 'Alt') {\n",
       "        value += 'alt+';\n",
       "    }\n",
       "    else if (event.shiftKey && event.key !== 'Shift') {\n",
       "        value += 'shift+';\n",
       "    }\n",
       "\n",
       "    value += 'k' + event.key;\n",
       "\n",
       "    this._key_event_extra(event, name);\n",
       "\n",
       "    this.send_message(name, { key: value, guiEvent: simpleKeys(event) });\n",
       "    return false;\n",
       "};\n",
       "\n",
       "mpl.figure.prototype.toolbar_button_onclick = function (name) {\n",
       "    if (name === 'download') {\n",
       "        this.handle_save(this, null);\n",
       "    } else {\n",
       "        this.send_message('toolbar_button', { name: name });\n",
       "    }\n",
       "};\n",
       "\n",
       "mpl.figure.prototype.toolbar_button_onmouseover = function (tooltip) {\n",
       "    this.message.textContent = tooltip;\n",
       "};\n",
       "\n",
       "///////////////// REMAINING CONTENT GENERATED BY embed_js.py /////////////////\n",
       "// prettier-ignore\n",
       "var _JSXTOOLS_RESIZE_OBSERVER=function(A){var t,i=new WeakMap,n=new WeakMap,a=new WeakMap,r=new WeakMap,o=new Set;function s(e){if(!(this instanceof s))throw new TypeError(\"Constructor requires 'new' operator\");i.set(this,e)}function h(){throw new TypeError(\"Function is not a constructor\")}function c(e,t,i,n){e=0 in arguments?Number(arguments[0]):0,t=1 in arguments?Number(arguments[1]):0,i=2 in arguments?Number(arguments[2]):0,n=3 in arguments?Number(arguments[3]):0,this.right=(this.x=this.left=e)+(this.width=i),this.bottom=(this.y=this.top=t)+(this.height=n),Object.freeze(this)}function d(){t=requestAnimationFrame(d);var s=new WeakMap,p=new Set;o.forEach((function(t){r.get(t).forEach((function(i){var r=t instanceof window.SVGElement,o=a.get(t),d=r?0:parseFloat(o.paddingTop),f=r?0:parseFloat(o.paddingRight),l=r?0:parseFloat(o.paddingBottom),u=r?0:parseFloat(o.paddingLeft),g=r?0:parseFloat(o.borderTopWidth),m=r?0:parseFloat(o.borderRightWidth),w=r?0:parseFloat(o.borderBottomWidth),b=u+f,F=d+l,v=(r?0:parseFloat(o.borderLeftWidth))+m,W=g+w,y=r?0:t.offsetHeight-W-t.clientHeight,E=r?0:t.offsetWidth-v-t.clientWidth,R=b+v,z=F+W,M=r?t.width:parseFloat(o.width)-R-E,O=r?t.height:parseFloat(o.height)-z-y;if(n.has(t)){var k=n.get(t);if(k[0]===M&&k[1]===O)return}n.set(t,[M,O]);var S=Object.create(h.prototype);S.target=t,S.contentRect=new c(u,d,M,O),s.has(i)||(s.set(i,[]),p.add(i)),s.get(i).push(S)}))})),p.forEach((function(e){i.get(e).call(e,s.get(e),e)}))}return s.prototype.observe=function(i){if(i instanceof window.Element){r.has(i)||(r.set(i,new Set),o.add(i),a.set(i,window.getComputedStyle(i)));var n=r.get(i);n.has(this)||n.add(this),cancelAnimationFrame(t),t=requestAnimationFrame(d)}},s.prototype.unobserve=function(i){if(i instanceof window.Element&&r.has(i)){var n=r.get(i);n.has(this)&&(n.delete(this),n.size||(r.delete(i),o.delete(i))),n.size||r.delete(i),o.size||cancelAnimationFrame(t)}},A.DOMRectReadOnly=c,A.ResizeObserver=s,A.ResizeObserverEntry=h,A}; // eslint-disable-line\n",
       "mpl.toolbar_items = [[\"Home\", \"Reset original view\", \"fa fa-home icon-home\", \"home\"], [\"Back\", \"Back to previous view\", \"fa fa-arrow-left icon-arrow-left\", \"back\"], [\"Forward\", \"Forward to next view\", \"fa fa-arrow-right icon-arrow-right\", \"forward\"], [\"\", \"\", \"\", \"\"], [\"Pan\", \"Left button pans, Right button zooms\\nx/y fixes axis, CTRL fixes aspect\", \"fa fa-arrows icon-move\", \"pan\"], [\"Zoom\", \"Zoom to rectangle\\nx/y fixes axis\", \"fa fa-square-o icon-check-empty\", \"zoom\"], [\"\", \"\", \"\", \"\"], [\"Download\", \"Download plot\", \"fa fa-floppy-o icon-save\", \"download\"]];\n",
       "\n",
       "mpl.extensions = [\"eps\", \"jpeg\", \"pgf\", \"pdf\", \"png\", \"ps\", \"raw\", \"svg\", \"tif\"];\n",
       "\n",
       "mpl.default_extension = \"png\";/* global mpl */\n",
       "\n",
       "var comm_websocket_adapter = function (comm) {\n",
       "    // Create a \"websocket\"-like object which calls the given IPython comm\n",
       "    // object with the appropriate methods. Currently this is a non binary\n",
       "    // socket, so there is still some room for performance tuning.\n",
       "    var ws = {};\n",
       "\n",
       "    ws.binaryType = comm.kernel.ws.binaryType;\n",
       "    ws.readyState = comm.kernel.ws.readyState;\n",
       "    function updateReadyState(_event) {\n",
       "        if (comm.kernel.ws) {\n",
       "            ws.readyState = comm.kernel.ws.readyState;\n",
       "        } else {\n",
       "            ws.readyState = 3; // Closed state.\n",
       "        }\n",
       "    }\n",
       "    comm.kernel.ws.addEventListener('open', updateReadyState);\n",
       "    comm.kernel.ws.addEventListener('close', updateReadyState);\n",
       "    comm.kernel.ws.addEventListener('error', updateReadyState);\n",
       "\n",
       "    ws.close = function () {\n",
       "        comm.close();\n",
       "    };\n",
       "    ws.send = function (m) {\n",
       "        //console.log('sending', m);\n",
       "        comm.send(m);\n",
       "    };\n",
       "    // Register the callback with on_msg.\n",
       "    comm.on_msg(function (msg) {\n",
       "        //console.log('receiving', msg['content']['data'], msg);\n",
       "        var data = msg['content']['data'];\n",
       "        if (data['blob'] !== undefined) {\n",
       "            data = {\n",
       "                data: new Blob(msg['buffers'], { type: data['blob'] }),\n",
       "            };\n",
       "        }\n",
       "        // Pass the mpl event to the overridden (by mpl) onmessage function.\n",
       "        ws.onmessage(data);\n",
       "    });\n",
       "    return ws;\n",
       "};\n",
       "\n",
       "mpl.mpl_figure_comm = function (comm, msg) {\n",
       "    // This is the function which gets called when the mpl process\n",
       "    // starts-up an IPython Comm through the \"matplotlib\" channel.\n",
       "\n",
       "    var id = msg.content.data.id;\n",
       "    // Get hold of the div created by the display call when the Comm\n",
       "    // socket was opened in Python.\n",
       "    var element = document.getElementById(id);\n",
       "    var ws_proxy = comm_websocket_adapter(comm);\n",
       "\n",
       "    function ondownload(figure, _format) {\n",
       "        window.open(figure.canvas.toDataURL());\n",
       "    }\n",
       "\n",
       "    var fig = new mpl.figure(id, ws_proxy, ondownload, element);\n",
       "\n",
       "    // Call onopen now - mpl needs it, as it is assuming we've passed it a real\n",
       "    // web socket which is closed, not our websocket->open comm proxy.\n",
       "    ws_proxy.onopen();\n",
       "\n",
       "    fig.parent_element = element;\n",
       "    fig.cell_info = mpl.find_output_cell(\"<div id='\" + id + \"'></div>\");\n",
       "    if (!fig.cell_info) {\n",
       "        console.error('Failed to find cell for figure', id, fig);\n",
       "        return;\n",
       "    }\n",
       "    fig.cell_info[0].output_area.element.on(\n",
       "        'cleared',\n",
       "        { fig: fig },\n",
       "        fig._remove_fig_handler\n",
       "    );\n",
       "};\n",
       "\n",
       "mpl.figure.prototype.handle_close = function (fig, msg) {\n",
       "    var width = fig.canvas.width / fig.ratio;\n",
       "    fig.cell_info[0].output_area.element.off(\n",
       "        'cleared',\n",
       "        fig._remove_fig_handler\n",
       "    );\n",
       "    fig.resizeObserverInstance.unobserve(fig.canvas_div);\n",
       "\n",
       "    // Update the output cell to use the data from the current canvas.\n",
       "    fig.push_to_output();\n",
       "    var dataURL = fig.canvas.toDataURL();\n",
       "    // Re-enable the keyboard manager in IPython - without this line, in FF,\n",
       "    // the notebook keyboard shortcuts fail.\n",
       "    IPython.keyboard_manager.enable();\n",
       "    fig.parent_element.innerHTML =\n",
       "        '<img src=\"' + dataURL + '\" width=\"' + width + '\">';\n",
       "    fig.close_ws(fig, msg);\n",
       "};\n",
       "\n",
       "mpl.figure.prototype.close_ws = function (fig, msg) {\n",
       "    fig.send_message('closing', msg);\n",
       "    // fig.ws.close()\n",
       "};\n",
       "\n",
       "mpl.figure.prototype.push_to_output = function (_remove_interactive) {\n",
       "    // Turn the data on the canvas into data in the output cell.\n",
       "    var width = this.canvas.width / this.ratio;\n",
       "    var dataURL = this.canvas.toDataURL();\n",
       "    this.cell_info[1]['text/html'] =\n",
       "        '<img src=\"' + dataURL + '\" width=\"' + width + '\">';\n",
       "};\n",
       "\n",
       "mpl.figure.prototype.updated_canvas_event = function () {\n",
       "    // Tell IPython that the notebook contents must change.\n",
       "    IPython.notebook.set_dirty(true);\n",
       "    this.send_message('ack', {});\n",
       "    var fig = this;\n",
       "    // Wait a second, then push the new image to the DOM so\n",
       "    // that it is saved nicely (might be nice to debounce this).\n",
       "    setTimeout(function () {\n",
       "        fig.push_to_output();\n",
       "    }, 1000);\n",
       "};\n",
       "\n",
       "mpl.figure.prototype._init_toolbar = function () {\n",
       "    var fig = this;\n",
       "\n",
       "    var toolbar = document.createElement('div');\n",
       "    toolbar.classList = 'btn-toolbar';\n",
       "    this.root.appendChild(toolbar);\n",
       "\n",
       "    function on_click_closure(name) {\n",
       "        return function (_event) {\n",
       "            return fig.toolbar_button_onclick(name);\n",
       "        };\n",
       "    }\n",
       "\n",
       "    function on_mouseover_closure(tooltip) {\n",
       "        return function (event) {\n",
       "            if (!event.currentTarget.disabled) {\n",
       "                return fig.toolbar_button_onmouseover(tooltip);\n",
       "            }\n",
       "        };\n",
       "    }\n",
       "\n",
       "    fig.buttons = {};\n",
       "    var buttonGroup = document.createElement('div');\n",
       "    buttonGroup.classList = 'btn-group';\n",
       "    var button;\n",
       "    for (var toolbar_ind in mpl.toolbar_items) {\n",
       "        var name = mpl.toolbar_items[toolbar_ind][0];\n",
       "        var tooltip = mpl.toolbar_items[toolbar_ind][1];\n",
       "        var image = mpl.toolbar_items[toolbar_ind][2];\n",
       "        var method_name = mpl.toolbar_items[toolbar_ind][3];\n",
       "\n",
       "        if (!name) {\n",
       "            /* Instead of a spacer, we start a new button group. */\n",
       "            if (buttonGroup.hasChildNodes()) {\n",
       "                toolbar.appendChild(buttonGroup);\n",
       "            }\n",
       "            buttonGroup = document.createElement('div');\n",
       "            buttonGroup.classList = 'btn-group';\n",
       "            continue;\n",
       "        }\n",
       "\n",
       "        button = fig.buttons[name] = document.createElement('button');\n",
       "        button.classList = 'btn btn-default';\n",
       "        button.href = '#';\n",
       "        button.title = name;\n",
       "        button.innerHTML = '<i class=\"fa ' + image + ' fa-lg\"></i>';\n",
       "        button.addEventListener('click', on_click_closure(method_name));\n",
       "        button.addEventListener('mouseover', on_mouseover_closure(tooltip));\n",
       "        buttonGroup.appendChild(button);\n",
       "    }\n",
       "\n",
       "    if (buttonGroup.hasChildNodes()) {\n",
       "        toolbar.appendChild(buttonGroup);\n",
       "    }\n",
       "\n",
       "    // Add the status bar.\n",
       "    var status_bar = document.createElement('span');\n",
       "    status_bar.classList = 'mpl-message pull-right';\n",
       "    toolbar.appendChild(status_bar);\n",
       "    this.message = status_bar;\n",
       "\n",
       "    // Add the close button to the window.\n",
       "    var buttongrp = document.createElement('div');\n",
       "    buttongrp.classList = 'btn-group inline pull-right';\n",
       "    button = document.createElement('button');\n",
       "    button.classList = 'btn btn-mini btn-primary';\n",
       "    button.href = '#';\n",
       "    button.title = 'Stop Interaction';\n",
       "    button.innerHTML = '<i class=\"fa fa-power-off icon-remove icon-large\"></i>';\n",
       "    button.addEventListener('click', function (_evt) {\n",
       "        fig.handle_close(fig, {});\n",
       "    });\n",
       "    button.addEventListener(\n",
       "        'mouseover',\n",
       "        on_mouseover_closure('Stop Interaction')\n",
       "    );\n",
       "    buttongrp.appendChild(button);\n",
       "    var titlebar = this.root.querySelector('.ui-dialog-titlebar');\n",
       "    titlebar.insertBefore(buttongrp, titlebar.firstChild);\n",
       "};\n",
       "\n",
       "mpl.figure.prototype._remove_fig_handler = function (event) {\n",
       "    var fig = event.data.fig;\n",
       "    if (event.target !== this) {\n",
       "        // Ignore bubbled events from children.\n",
       "        return;\n",
       "    }\n",
       "    fig.close_ws(fig, {});\n",
       "};\n",
       "\n",
       "mpl.figure.prototype._root_extra_style = function (el) {\n",
       "    el.style.boxSizing = 'content-box'; // override notebook setting of border-box.\n",
       "};\n",
       "\n",
       "mpl.figure.prototype._canvas_extra_style = function (el) {\n",
       "    // this is important to make the div 'focusable\n",
       "    el.setAttribute('tabindex', 0);\n",
       "    // reach out to IPython and tell the keyboard manager to turn it's self\n",
       "    // off when our div gets focus\n",
       "\n",
       "    // location in version 3\n",
       "    if (IPython.notebook.keyboard_manager) {\n",
       "        IPython.notebook.keyboard_manager.register_events(el);\n",
       "    } else {\n",
       "        // location in version 2\n",
       "        IPython.keyboard_manager.register_events(el);\n",
       "    }\n",
       "};\n",
       "\n",
       "mpl.figure.prototype._key_event_extra = function (event, _name) {\n",
       "    // Check for shift+enter\n",
       "    if (event.shiftKey && event.which === 13) {\n",
       "        this.canvas_div.blur();\n",
       "        // select the cell after this one\n",
       "        var index = IPython.notebook.find_cell_index(this.cell_info[0]);\n",
       "        IPython.notebook.select(index + 1);\n",
       "    }\n",
       "};\n",
       "\n",
       "mpl.figure.prototype.handle_save = function (fig, _msg) {\n",
       "    fig.ondownload(fig, null);\n",
       "};\n",
       "\n",
       "mpl.find_output_cell = function (html_output) {\n",
       "    // Return the cell and output element which can be found *uniquely* in the notebook.\n",
       "    // Note - this is a bit hacky, but it is done because the \"notebook_saving.Notebook\"\n",
       "    // IPython event is triggered only after the cells have been serialised, which for\n",
       "    // our purposes (turning an active figure into a static one), is too late.\n",
       "    var cells = IPython.notebook.get_cells();\n",
       "    var ncells = cells.length;\n",
       "    for (var i = 0; i < ncells; i++) {\n",
       "        var cell = cells[i];\n",
       "        if (cell.cell_type === 'code') {\n",
       "            for (var j = 0; j < cell.output_area.outputs.length; j++) {\n",
       "                var data = cell.output_area.outputs[j];\n",
       "                if (data.data) {\n",
       "                    // IPython >= 3 moved mimebundle to data attribute of output\n",
       "                    data = data.data;\n",
       "                }\n",
       "                if (data['text/html'] === html_output) {\n",
       "                    return [cell, data, j];\n",
       "                }\n",
       "            }\n",
       "        }\n",
       "    }\n",
       "};\n",
       "\n",
       "// Register the function which deals with the matplotlib target/channel.\n",
       "// The kernel may be null if the page has been refreshed.\n",
       "if (IPython.notebook.kernel !== null) {\n",
       "    IPython.notebook.kernel.comm_manager.register_target(\n",
       "        'matplotlib',\n",
       "        mpl.mpl_figure_comm\n",
       "    );\n",
       "}\n"
      ],
      "text/plain": [
       "<IPython.core.display.Javascript object>"
      ]
     },
     "metadata": {},
     "output_type": "display_data"
    },
    {
     "data": {
      "text/html": [
       "<img src=\"data:image/png;base64,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\" width=\"500\">"
      ],
      "text/plain": [
       "<IPython.core.display.HTML object>"
      ]
     },
     "metadata": {},
     "output_type": "display_data"
    },
    {
     "data": {
      "text/plain": [
       "<matplotlib.legend.Legend at 0x7f3fbe6c6b80>"
      ]
     },
     "execution_count": 96,
     "metadata": {},
     "output_type": "execute_result"
    }
   ],
   "source": [
    "plt.figure(figsize=(5, 5))\n",
    "\n",
    "plt.plot(fpr2, tpr2, label='Model 2 - rf')\n",
    "plt.plot(fpr3, tpr3, label='Model 3 - rf-opt')\n",
    "plt.plot([0, 1], [0, 1], label='Random', linestyle='--')\n",
    "\n",
    "plt.xlabel('FPR')\n",
    "plt.ylabel('TPR')\n",
    "\n",
    "plt.legend()"
   ]
  },
  {
   "cell_type": "code",
   "execution_count": null,
   "metadata": {},
   "outputs": [],
   "source": []
  }
 ],
 "metadata": {
  "kernelspec": {
   "display_name": "Python 3 (ipykernel)",
   "language": "python",
   "name": "python3"
  },
  "language_info": {
   "codemirror_mode": {
    "name": "ipython",
    "version": 3
   },
   "file_extension": ".py",
   "mimetype": "text/x-python",
   "name": "python",
   "nbconvert_exporter": "python",
   "pygments_lexer": "ipython3",
   "version": "3.9.13"
  }
 },
 "nbformat": 4,
 "nbformat_minor": 2
}
